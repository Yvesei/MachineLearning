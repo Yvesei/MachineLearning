{
 "cells": [
  {
   "cell_type": "markdown",
   "id": "952e8adb",
   "metadata": {},
   "source": [
    "# Regression Linéaire Simple du dataset Iris - Gradient Descent"
   ]
  },
  {
   "cell_type": "code",
   "execution_count": 33,
   "id": "4aaf4dbc",
   "metadata": {},
   "outputs": [],
   "source": [
    "import pandas as pd\n",
    "import numpy as np\n",
    "import matplotlib.pyplot as plt\n",
    "%matplotlib inline"
   ]
  },
  {
   "cell_type": "markdown",
   "id": "52aab10c",
   "metadata": {},
   "source": [
    "## 1. Dataset\n",
    "Chargement du dataset Iris pour effectuer les prédictions de la largeur des pétales en fonction de longueur des pétales"
   ]
  },
  {
   "cell_type": "code",
   "execution_count": 34,
   "id": "fd4ad33b",
   "metadata": {},
   "outputs": [],
   "source": [
    "dataset=pd.read_csv(\"iris.csv\")"
   ]
  },
  {
   "cell_type": "code",
   "execution_count": 35,
   "id": "b1933fdf",
   "metadata": {},
   "outputs": [
    {
     "data": {
      "text/html": [
       "<div>\n",
       "<style scoped>\n",
       "    .dataframe tbody tr th:only-of-type {\n",
       "        vertical-align: middle;\n",
       "    }\n",
       "\n",
       "    .dataframe tbody tr th {\n",
       "        vertical-align: top;\n",
       "    }\n",
       "\n",
       "    .dataframe thead th {\n",
       "        text-align: right;\n",
       "    }\n",
       "</style>\n",
       "<table border=\"1\" class=\"dataframe\">\n",
       "  <thead>\n",
       "    <tr style=\"text-align: right;\">\n",
       "      <th></th>\n",
       "      <th>sepal_length</th>\n",
       "      <th>sepal_width</th>\n",
       "      <th>petal_length</th>\n",
       "      <th>petal_width</th>\n",
       "      <th>class</th>\n",
       "    </tr>\n",
       "  </thead>\n",
       "  <tbody>\n",
       "    <tr>\n",
       "      <th>0</th>\n",
       "      <td>5.1</td>\n",
       "      <td>3.5</td>\n",
       "      <td>1.4</td>\n",
       "      <td>0.2</td>\n",
       "      <td>Iris-setosa</td>\n",
       "    </tr>\n",
       "    <tr>\n",
       "      <th>1</th>\n",
       "      <td>4.9</td>\n",
       "      <td>3.0</td>\n",
       "      <td>1.4</td>\n",
       "      <td>0.2</td>\n",
       "      <td>Iris-setosa</td>\n",
       "    </tr>\n",
       "    <tr>\n",
       "      <th>2</th>\n",
       "      <td>4.7</td>\n",
       "      <td>3.2</td>\n",
       "      <td>1.3</td>\n",
       "      <td>0.2</td>\n",
       "      <td>Iris-setosa</td>\n",
       "    </tr>\n",
       "    <tr>\n",
       "      <th>3</th>\n",
       "      <td>4.6</td>\n",
       "      <td>3.1</td>\n",
       "      <td>1.5</td>\n",
       "      <td>0.2</td>\n",
       "      <td>Iris-setosa</td>\n",
       "    </tr>\n",
       "    <tr>\n",
       "      <th>4</th>\n",
       "      <td>5.0</td>\n",
       "      <td>3.6</td>\n",
       "      <td>1.4</td>\n",
       "      <td>0.2</td>\n",
       "      <td>Iris-setosa</td>\n",
       "    </tr>\n",
       "  </tbody>\n",
       "</table>\n",
       "</div>"
      ],
      "text/plain": [
       "   sepal_length  sepal_width  petal_length  petal_width        class\n",
       "0           5.1          3.5           1.4          0.2  Iris-setosa\n",
       "1           4.9          3.0           1.4          0.2  Iris-setosa\n",
       "2           4.7          3.2           1.3          0.2  Iris-setosa\n",
       "3           4.6          3.1           1.5          0.2  Iris-setosa\n",
       "4           5.0          3.6           1.4          0.2  Iris-setosa"
      ]
     },
     "execution_count": 35,
     "metadata": {},
     "output_type": "execute_result"
    }
   ],
   "source": [
    "dataset.head()"
   ]
  },
  {
   "cell_type": "code",
   "execution_count": 36,
   "id": "7b6ad56e",
   "metadata": {},
   "outputs": [
    {
     "data": {
      "image/png": "[encoded data removed]",
      "text/plain": [
       "<Figure size 640x480 with 1 Axes>"
      ]
     },
     "metadata": {},
     "output_type": "display_data"
    }
   ],
   "source": [
    "plt.plot(dataset[\"petal_width\"],dataset[\"petal_length\"],'o')\n",
    "plt.xlabel('petal_length')\n",
    "plt.ylabel('petal_width')\n",
    "plt.show()"
   ]
  },
  {
   "cell_type": "code",
   "execution_count": 37,
   "id": "dc5a27ae",
   "metadata": {},
   "outputs": [
    {
     "data": {
      "text/html": [
       "<div>\n",
       "<style scoped>\n",
       "    .dataframe tbody tr th:only-of-type {\n",
       "        vertical-align: middle;\n",
       "    }\n",
       "\n",
       "    .dataframe tbody tr th {\n",
       "        vertical-align: top;\n",
       "    }\n",
       "\n",
       "    .dataframe thead th {\n",
       "        text-align: right;\n",
       "    }\n",
       "</style>\n",
       "<table border=\"1\" class=\"dataframe\">\n",
       "  <thead>\n",
       "    <tr style=\"text-align: right;\">\n",
       "      <th></th>\n",
       "      <th>petal_length</th>\n",
       "      <th>petal_width</th>\n",
       "    </tr>\n",
       "  </thead>\n",
       "  <tbody>\n",
       "    <tr>\n",
       "      <th>0</th>\n",
       "      <td>1.4</td>\n",
       "      <td>0.2</td>\n",
       "    </tr>\n",
       "    <tr>\n",
       "      <th>1</th>\n",
       "      <td>1.4</td>\n",
       "      <td>0.2</td>\n",
       "    </tr>\n",
       "    <tr>\n",
       "      <th>2</th>\n",
       "      <td>1.3</td>\n",
       "      <td>0.2</td>\n",
       "    </tr>\n",
       "    <tr>\n",
       "      <th>3</th>\n",
       "      <td>1.5</td>\n",
       "      <td>0.2</td>\n",
       "    </tr>\n",
       "    <tr>\n",
       "      <th>4</th>\n",
       "      <td>1.4</td>\n",
       "      <td>0.2</td>\n",
       "    </tr>\n",
       "    <tr>\n",
       "      <th>...</th>\n",
       "      <td>...</td>\n",
       "      <td>...</td>\n",
       "    </tr>\n",
       "    <tr>\n",
       "      <th>145</th>\n",
       "      <td>5.2</td>\n",
       "      <td>2.3</td>\n",
       "    </tr>\n",
       "    <tr>\n",
       "      <th>146</th>\n",
       "      <td>5.0</td>\n",
       "      <td>1.9</td>\n",
       "    </tr>\n",
       "    <tr>\n",
       "      <th>147</th>\n",
       "      <td>5.2</td>\n",
       "      <td>2.0</td>\n",
       "    </tr>\n",
       "    <tr>\n",
       "      <th>148</th>\n",
       "      <td>5.4</td>\n",
       "      <td>2.3</td>\n",
       "    </tr>\n",
       "    <tr>\n",
       "      <th>149</th>\n",
       "      <td>5.1</td>\n",
       "      <td>1.8</td>\n",
       "    </tr>\n",
       "  </tbody>\n",
       "</table>\n",
       "<p>150 rows × 2 columns</p>\n",
       "</div>"
      ],
      "text/plain": [
       "     petal_length  petal_width\n",
       "0             1.4          0.2\n",
       "1             1.4          0.2\n",
       "2             1.3          0.2\n",
       "3             1.5          0.2\n",
       "4             1.4          0.2\n",
       "..            ...          ...\n",
       "145           5.2          2.3\n",
       "146           5.0          1.9\n",
       "147           5.2          2.0\n",
       "148           5.4          2.3\n",
       "149           5.1          1.8\n",
       "\n",
       "[150 rows x 2 columns]"
      ]
     },
     "execution_count": 37,
     "metadata": {},
     "output_type": "execute_result"
    }
   ],
   "source": [
    "df=dataset[['petal_length','petal_width']]\n",
    "df"
   ]
  },
  {
   "cell_type": "code",
   "execution_count": 38,
   "id": "b5c2d3ff",
   "metadata": {},
   "outputs": [],
   "source": [
    "\n",
    "x=dataset.petal_length\n",
    "y=dataset.petal_width\n"
   ]
  },
  {
   "cell_type": "code",
   "execution_count": null,
   "id": "946c2c7e",
   "metadata": {},
   "outputs": [],
   "source": []
  },
  {
   "cell_type": "code",
   "execution_count": 39,
   "id": "53cf6861",
   "metadata": {},
   "outputs": [
    {
     "data": {
      "text/plain": [
       "(150,)"
      ]
     },
     "execution_count": 39,
     "metadata": {},
     "output_type": "execute_result"
    }
   ],
   "source": [
    "x.shape"
   ]
  },
  {
   "cell_type": "code",
   "execution_count": 40,
   "id": "df2012da",
   "metadata": {},
   "outputs": [
    {
     "data": {
      "text/plain": [
       "0      0.2\n",
       "1      0.2\n",
       "2      0.2\n",
       "3      0.2\n",
       "4      0.2\n",
       "      ... \n",
       "145    2.3\n",
       "146    1.9\n",
       "147    2.0\n",
       "148    2.3\n",
       "149    1.8\n",
       "Name: petal_width, Length: 150, dtype: float64"
      ]
     },
     "execution_count": 40,
     "metadata": {},
     "output_type": "execute_result"
    }
   ],
   "source": [
    "y"
   ]
  },
  {
   "cell_type": "code",
   "execution_count": 41,
   "id": "96f1cead",
   "metadata": {},
   "outputs": [
    {
     "data": {
      "text/plain": [
       "(150,)"
      ]
     },
     "execution_count": 41,
     "metadata": {},
     "output_type": "execute_result"
    }
   ],
   "source": [
    "y.shape"
   ]
  },
  {
   "cell_type": "markdown",
   "id": "107cf286",
   "metadata": {},
   "source": [
    "Important: Après avoir vérifié les dimensions de x et y, On remarque que y n'a pas les dimensions (150, 1) et x n'a pas les dimensions (150,2). On corrige le problème avec np.reshape et values."
   ]
  },
  {
   "cell_type": "code",
   "execution_count": 42,
   "id": "0cda34fb",
   "metadata": {},
   "outputs": [
    {
     "data": {
      "text/plain": [
       "array([1.4, 1.4, 1.3, 1.5, 1.4, 1.7, 1.4, 1.5, 1.4, 1.5, 1.5, 1.6, 1.4,\n",
       "       1.1, 1.2, 1.5, 1.3, 1.4, 1.7, 1.5, 1.7, 1.5, 1. , 1.7, 1.9, 1.6,\n",
       "       1.6, 1.5, 1.4, 1.6, 1.6, 1.5, 1.5, 1.4, 1.5, 1.2, 1.3, 1.5, 1.3,\n",
       "       1.5, 1.3, 1.3, 1.3, 1.6, 1.9, 1.4, 1.6, 1.4, 1.5, 1.4, 4.7, 4.5,\n",
       "       4.9, 4. , 4.6, 4.5, 4.7, 3.3, 4.6, 3.9, 3.5, 4.2, 4. , 4.7, 3.6,\n",
       "       4.4, 4.5, 4.1, 4.5, 3.9, 4.8, 4. , 4.9, 4.7, 4.3, 4.4, 4.8, 5. ,\n",
       "       4.5, 3.5, 3.8, 3.7, 3.9, 5.1, 4.5, 4.5, 4.7, 4.4, 4.1, 4. , 4.4,\n",
       "       4.6, 4. , 3.3, 4.2, 4.2, 4.2, 4.3, 3. , 4.1, 6. , 5.1, 5.9, 5.6,\n",
       "       5.8, 6.6, 4.5, 6.3, 5.8, 6.1, 5.1, 5.3, 5.5, 5. , 5.1, 5.3, 5.5,\n",
       "       6.7, 6.9, 5. , 5.7, 4.9, 6.7, 4.9, 5.7, 6. , 4.8, 4.9, 5.6, 5.8,\n",
       "       6.1, 6.4, 5.6, 5.1, 5.6, 6.1, 5.6, 5.5, 4.8, 5.4, 5.6, 5.1, 5.1,\n",
       "       5.9, 5.7, 5.2, 5. , 5.2, 5.4, 5.1])"
      ]
     },
     "execution_count": 42,
     "metadata": {},
     "output_type": "execute_result"
    }
   ],
   "source": [
    "X=dataset.petal_length.values\n",
    "Y=dataset.petal_width.values\n",
    "X\n"
   ]
  },
  {
   "cell_type": "code",
   "execution_count": 43,
   "id": "a111c214",
   "metadata": {},
   "outputs": [
    {
     "data": {
      "text/plain": [
       "(150,)"
      ]
     },
     "execution_count": 43,
     "metadata": {},
     "output_type": "execute_result"
    }
   ],
   "source": [
    "X.shape"
   ]
  },
  {
   "cell_type": "code",
   "execution_count": 44,
   "id": "eb4f57d7",
   "metadata": {},
   "outputs": [],
   "source": [
    "x=dataset.petal_length.values.reshape(150,1)\n",
    "y=dataset.petal_width.values.reshape(150,1)"
   ]
  },
  {
   "cell_type": "code",
   "execution_count": 45,
   "id": "0594ec56",
   "metadata": {},
   "outputs": [
    {
     "name": "stdout",
     "output_type": "stream",
     "text": [
      "(150, 1)\n",
      "(150, 1)\n"
     ]
    }
   ],
   "source": [
    "print(x.shape)\n",
    "print(y.shape)"
   ]
  },
  {
   "cell_type": "markdown",
   "id": "187f5058",
   "metadata": {},
   "source": [
    "Création de la matrice X qui contient la colonne de Biais. Pour ca, on colle l'un contre l'autre le vecteur x et un vecteur 1 (avec np.ones) de dimension égale a celle de x"
   ]
  },
  {
   "cell_type": "code",
   "execution_count": 46,
   "id": "e8b25651",
   "metadata": {},
   "outputs": [
    {
     "data": {
      "text/plain": [
       "array([[1.4, 1. ],\n",
       "       [1.4, 1. ],\n",
       "       [1.3, 1. ],\n",
       "       [1.5, 1. ],\n",
       "       [1.4, 1. ],\n",
       "       [1.7, 1. ],\n",
       "       [1.4, 1. ],\n",
       "       [1.5, 1. ],\n",
       "       [1.4, 1. ],\n",
       "       [1.5, 1. ],\n",
       "       [1.5, 1. ],\n",
       "       [1.6, 1. ],\n",
       "       [1.4, 1. ],\n",
       "       [1.1, 1. ],\n",
       "       [1.2, 1. ],\n",
       "       [1.5, 1. ],\n",
       "       [1.3, 1. ],\n",
       "       [1.4, 1. ],\n",
       "       [1.7, 1. ],\n",
       "       [1.5, 1. ],\n",
       "       [1.7, 1. ],\n",
       "       [1.5, 1. ],\n",
       "       [1. , 1. ],\n",
       "       [1.7, 1. ],\n",
       "       [1.9, 1. ],\n",
       "       [1.6, 1. ],\n",
       "       [1.6, 1. ],\n",
       "       [1.5, 1. ],\n",
       "       [1.4, 1. ],\n",
       "       [1.6, 1. ],\n",
       "       [1.6, 1. ],\n",
       "       [1.5, 1. ],\n",
       "       [1.5, 1. ],\n",
       "       [1.4, 1. ],\n",
       "       [1.5, 1. ],\n",
       "       [1.2, 1. ],\n",
       "       [1.3, 1. ],\n",
       "       [1.5, 1. ],\n",
       "       [1.3, 1. ],\n",
       "       [1.5, 1. ],\n",
       "       [1.3, 1. ],\n",
       "       [1.3, 1. ],\n",
       "       [1.3, 1. ],\n",
       "       [1.6, 1. ],\n",
       "       [1.9, 1. ],\n",
       "       [1.4, 1. ],\n",
       "       [1.6, 1. ],\n",
       "       [1.4, 1. ],\n",
       "       [1.5, 1. ],\n",
       "       [1.4, 1. ],\n",
       "       [4.7, 1. ],\n",
       "       [4.5, 1. ],\n",
       "       [4.9, 1. ],\n",
       "       [4. , 1. ],\n",
       "       [4.6, 1. ],\n",
       "       [4.5, 1. ],\n",
       "       [4.7, 1. ],\n",
       "       [3.3, 1. ],\n",
       "       [4.6, 1. ],\n",
       "       [3.9, 1. ],\n",
       "       [3.5, 1. ],\n",
       "       [4.2, 1. ],\n",
       "       [4. , 1. ],\n",
       "       [4.7, 1. ],\n",
       "       [3.6, 1. ],\n",
       "       [4.4, 1. ],\n",
       "       [4.5, 1. ],\n",
       "       [4.1, 1. ],\n",
       "       [4.5, 1. ],\n",
       "       [3.9, 1. ],\n",
       "       [4.8, 1. ],\n",
       "       [4. , 1. ],\n",
       "       [4.9, 1. ],\n",
       "       [4.7, 1. ],\n",
       "       [4.3, 1. ],\n",
       "       [4.4, 1. ],\n",
       "       [4.8, 1. ],\n",
       "       [5. , 1. ],\n",
       "       [4.5, 1. ],\n",
       "       [3.5, 1. ],\n",
       "       [3.8, 1. ],\n",
       "       [3.7, 1. ],\n",
       "       [3.9, 1. ],\n",
       "       [5.1, 1. ],\n",
       "       [4.5, 1. ],\n",
       "       [4.5, 1. ],\n",
       "       [4.7, 1. ],\n",
       "       [4.4, 1. ],\n",
       "       [4.1, 1. ],\n",
       "       [4. , 1. ],\n",
       "       [4.4, 1. ],\n",
       "       [4.6, 1. ],\n",
       "       [4. , 1. ],\n",
       "       [3.3, 1. ],\n",
       "       [4.2, 1. ],\n",
       "       [4.2, 1. ],\n",
       "       [4.2, 1. ],\n",
       "       [4.3, 1. ],\n",
       "       [3. , 1. ],\n",
       "       [4.1, 1. ],\n",
       "       [6. , 1. ],\n",
       "       [5.1, 1. ],\n",
       "       [5.9, 1. ],\n",
       "       [5.6, 1. ],\n",
       "       [5.8, 1. ],\n",
       "       [6.6, 1. ],\n",
       "       [4.5, 1. ],\n",
       "       [6.3, 1. ],\n",
       "       [5.8, 1. ],\n",
       "       [6.1, 1. ],\n",
       "       [5.1, 1. ],\n",
       "       [5.3, 1. ],\n",
       "       [5.5, 1. ],\n",
       "       [5. , 1. ],\n",
       "       [5.1, 1. ],\n",
       "       [5.3, 1. ],\n",
       "       [5.5, 1. ],\n",
       "       [6.7, 1. ],\n",
       "       [6.9, 1. ],\n",
       "       [5. , 1. ],\n",
       "       [5.7, 1. ],\n",
       "       [4.9, 1. ],\n",
       "       [6.7, 1. ],\n",
       "       [4.9, 1. ],\n",
       "       [5.7, 1. ],\n",
       "       [6. , 1. ],\n",
       "       [4.8, 1. ],\n",
       "       [4.9, 1. ],\n",
       "       [5.6, 1. ],\n",
       "       [5.8, 1. ],\n",
       "       [6.1, 1. ],\n",
       "       [6.4, 1. ],\n",
       "       [5.6, 1. ],\n",
       "       [5.1, 1. ],\n",
       "       [5.6, 1. ],\n",
       "       [6.1, 1. ],\n",
       "       [5.6, 1. ],\n",
       "       [5.5, 1. ],\n",
       "       [4.8, 1. ],\n",
       "       [5.4, 1. ],\n",
       "       [5.6, 1. ],\n",
       "       [5.1, 1. ],\n",
       "       [5.1, 1. ],\n",
       "       [5.9, 1. ],\n",
       "       [5.7, 1. ],\n",
       "       [5.2, 1. ],\n",
       "       [5. , 1. ],\n",
       "       [5.2, 1. ],\n",
       "       [5.4, 1. ],\n",
       "       [5.1, 1. ]])"
      ]
     },
     "execution_count": 46,
     "metadata": {},
     "output_type": "execute_result"
    }
   ],
   "source": [
    "#X=np.hstack((np.ones((150,1)),x))\n",
    "X=np.hstack((x,(np.ones(x.shape))))\n",
    "X"
   ]
  },
  {
   "cell_type": "code",
   "execution_count": 47,
   "id": "d1c71f2d",
   "metadata": {},
   "outputs": [
    {
     "data": {
      "text/plain": [
       "(150, 2)"
      ]
     },
     "execution_count": 47,
     "metadata": {},
     "output_type": "execute_result"
    }
   ],
   "source": [
    "\n",
    "X.shape"
   ]
  },
  {
   "cell_type": "markdown",
   "id": "1f5703e5",
   "metadata": {},
   "source": [
    "Finalement, création d'un vecteur parametre θ, initialisé avec des coefficients aléatoires. Ce vecteur est de dimension (2, 1). Si on désire toujours reproduire le meme vecteur \n",
    "θ, on utilise comme avant np.random.seed(0)"
   ]
  },
  {
   "cell_type": "code",
   "execution_count": 48,
   "id": "e45f2b9a",
   "metadata": {},
   "outputs": [
    {
     "name": "stdout",
     "output_type": "stream",
     "text": [
      "Theta: [[1.76405235]\n",
      " [0.40015721]]\n"
     ]
    }
   ],
   "source": [
    "np.random.seed(0) # pour produire toujours le meme vecteur theta aléatoire\n",
    "theta=np.random.randn(2,1)\n",
    "print('Theta:',theta)"
   ]
  },
  {
   "cell_type": "markdown",
   "id": "41a0e7d5",
   "metadata": {},
   "source": [
    "## 2. Modèle Linéaire\n",
    "On implémente un modèle selon l'équation matricielle F=X.θ et puis on teste le modèle initiale défini par la valeur initiale de θ qu'on a initialisé d'une manière aléatoire.\n"
   ]
  },
  {
   "cell_type": "code",
   "execution_count": 49,
   "id": "bc06c159",
   "metadata": {},
   "outputs": [],
   "source": [
    "def model(X, theta):\n",
    "    return X.dot(theta)"
   ]
  },
  {
   "cell_type": "code",
   "execution_count": 50,
   "id": "0e86cdd4",
   "metadata": {},
   "outputs": [
    {
     "data": {
      "image/png": "[encoded data removed]",
      "text/plain": [
       "<Figure size 640x480 with 1 Axes>"
      ]
     },
     "metadata": {},
     "output_type": "display_data"
    }
   ],
   "source": [
    "plt.plot(x,y,'o',label='dataset')\n",
    "plt.plot(x, model(X, theta), c='r',label='modèle initial')\n",
    "plt.xlabel('petal_length')\n",
    "plt.ylabel('petal_width')\n",
    "plt.legend()\n",
    "plt.show()"
   ]
  },
  {
   "attachments": {
    "Capture%20d'%C3%A9cran%202023-04-04%20113116.png": {
     "image/png": "[encoded data removed]"
    }
   },
   "cell_type": "markdown",
   "id": "4f8ef408",
   "metadata": {},
   "source": [
    "## 3. Fonction coût : Erreur Quadratique Moyenne\n",
    "On mesure les erreurs du modele sur le Dataset X, y en implémenterl'erreur quadratique moyenne, Mean Squared Error (MSE) en anglais.\n",
    "![Capture%20d'%C3%A9cran%202023-04-04%20113116.png](attachment:Capture%20d'%C3%A9cran%202023-04-04%20113116.png)\n",
    "\n",
    "Ensuite, on teste notre fonction, pour voir s'il n'y a pas de bug"
   ]
  },
  {
   "cell_type": "code",
   "execution_count": 51,
   "id": "3bfb4285",
   "metadata": {},
   "outputs": [],
   "source": [
    "def cost_function(X, y, theta):\n",
    "    m = len(y)\n",
    "    return 1/(2*m) * np.sum((model(X, theta) - y)**2)"
   ]
  },
  {
   "cell_type": "code",
   "execution_count": 52,
   "id": "ec4ef451",
   "metadata": {},
   "outputs": [
    {
     "data": {
      "text/plain": [
       "19.835212925097306"
      ]
     },
     "execution_count": 52,
     "metadata": {},
     "output_type": "execute_result"
    }
   ],
   "source": [
    "cost_function(X, y, theta)"
   ]
  },
  {
   "attachments": {
    "Capture%20d'%C3%A9cran%202023-04-04%20114408.png": {
     "image/png": "[encoded data removed]"
    }
   },
   "cell_type": "markdown",
   "id": "527094e1",
   "metadata": {},
   "source": [
    "![Capture%20d'%C3%A9cran%202023-04-04%20114408.png](attachment:Capture%20d'%C3%A9cran%202023-04-04%20114408.png)"
   ]
  },
  {
   "cell_type": "code",
   "execution_count": 53,
   "id": "bc48ccbb",
   "metadata": {},
   "outputs": [],
   "source": [
    "def grad(X, y, theta):\n",
    "    m = len(y)\n",
    "    return 1/m * X.T.dot(model(X, theta) - y)"
   ]
  },
  {
   "cell_type": "code",
   "execution_count": 54,
   "id": "dcda7267",
   "metadata": {},
   "outputs": [],
   "source": [
    "def gradient_descent(X, y, theta, learning_rate, n_iterations):\n",
    "    \n",
    "    cost_history = np.zeros(n_iterations) # création d'un tableau de stockage pour enregistrer l'évolution du Cout du modele\n",
    "    \n",
    "    for i in range(0, n_iterations):\n",
    "        theta = theta - learning_rate * grad(X, y, theta) # mise a jour du parametre theta (formule du gradient descent)\n",
    "        cost_history[i] = cost_function(X, y, theta) # on enregistre la valeur du Cout au tour i dans cost_history[i]\n",
    "        \n",
    "    return theta, cost_history"
   ]
  },
  {
   "cell_type": "markdown",
   "id": "42add5a3",
   "metadata": {},
   "source": [
    "## 5. Phase d'entrainement\n",
    "On définit un nombre d'itérations, ainsi qu'un pas d'apprentissage α. Une fois le modele entrainé, on observe les resultats par rapport a notre Dataset"
   ]
  },
  {
   "cell_type": "code",
   "execution_count": 55,
   "id": "1b30eb6b",
   "metadata": {},
   "outputs": [],
   "source": [
    "n_iterations = 100 #0.02172855 l'erreur minimale pour 1000 itéreations\n",
    "learning_rate = 0.1\n",
    "\n",
    "\n",
    "theta_final, cost_history = gradient_descent(X, y, theta, learning_rate, n_iterations)"
   ]
  },
  {
   "cell_type": "code",
   "execution_count": 56,
   "id": "ed0729ba",
   "metadata": {},
   "outputs": [
    {
     "data": {
      "text/plain": [
       "array([12.86262003,  8.34551287,  5.4190995 ,  3.52315916,  2.29477531,\n",
       "        1.49884689,  0.983073  ,  0.64879147,  0.43208781,  0.2915574 ,\n",
       "        0.20037777,  0.1411729 ,  0.10268627,  0.07762563,  0.06126685,\n",
       "        0.05054945,  0.04349065,  0.03880587,  0.03566282,  0.03352218,\n",
       "        0.03203447,  0.03097316,  0.0301914 ,  0.02959393,  0.02911893,\n",
       "        0.02872627,  0.02838983,  0.0280926 ,  0.02782346,  0.02757512,\n",
       "        0.02734277,  0.02712321,  0.02691427,  0.02671449,  0.02652283,\n",
       "        0.02633853,  0.02616106,  0.02598998,  0.02582494,  0.02566567,\n",
       "        0.0255119 ,  0.02536342,  0.02522003,  0.02508153,  0.02494776,\n",
       "        0.02481854,  0.02469372,  0.02457315,  0.02445667,  0.02434416,\n",
       "        0.02423547,  0.02413047,  0.02402904,  0.02393105,  0.0238364 ,\n",
       "        0.02374496,  0.02365663,  0.0235713 ,  0.02348886,  0.02340923,\n",
       "        0.02333231,  0.02325799,  0.02318621,  0.02311686,  0.02304986,\n",
       "        0.02298515,  0.02292263,  0.02286223,  0.02280389,  0.02274753,\n",
       "        0.02269309,  0.02264049,  0.02258968,  0.0225406 ,  0.02249318,\n",
       "        0.02244738,  0.02240313,  0.02236039,  0.02231909,  0.0222792 ,\n",
       "        0.02224067,  0.02220345,  0.02216748,  0.02213275,  0.02209919,\n",
       "        0.02206677,  0.02203545,  0.0220052 ,  0.02197597,  0.02194774,\n",
       "        0.02192047,  0.02189412,  0.02186867,  0.02184408,  0.02182033,\n",
       "        0.02179739,  0.02177522,  0.02175381,  0.02173312,  0.02171314])"
      ]
     },
     "execution_count": 56,
     "metadata": {},
     "output_type": "execute_result"
    }
   ],
   "source": [
    "cost_history # l'historique de la fonction coût qu'on va afficher par la suite. on remarque que sa valeur déminue et c'est ça l'objectif"
   ]
  },
  {
   "cell_type": "code",
   "execution_count": 57,
   "id": "71ae7b0a",
   "metadata": {},
   "outputs": [
    {
     "data": {
      "text/plain": [
       "array([[ 0.39888582],\n",
       "       [-0.28698595]])"
      ]
     },
     "execution_count": 57,
     "metadata": {},
     "output_type": "execute_result"
    }
   ],
   "source": [
    "theta_final # voici les parametres du modele une fois que la machine a été entrainée"
   ]
  },
  {
   "cell_type": "code",
   "execution_count": 58,
   "id": "61edd405",
   "metadata": {},
   "outputs": [
    {
     "data": {
      "text/plain": [
       "array([0.39888582])"
      ]
     },
     "execution_count": 58,
     "metadata": {},
     "output_type": "execute_result"
    }
   ],
   "source": [
    "theta_final[0]"
   ]
  },
  {
   "cell_type": "code",
   "execution_count": 59,
   "id": "606bfc53",
   "metadata": {},
   "outputs": [
    {
     "data": {
      "image/png": "[encoded data removed]",
      "text/plain": [
       "<Figure size 640x480 with 1 Axes>"
      ]
     },
     "metadata": {},
     "output_type": "display_data"
    }
   ],
   "source": [
    "# création d'un vecteur prédictions qui contient les prédictions de notre modele final\n",
    "predictions = model(X, theta_final)\n",
    "\n",
    "# Affichage des résultats de prédictions (en rouge) par rapport a notre Dataset (en bleu)\n",
    "plt.plot(x,y,'o',label='dataset')\n",
    "plt.plot(x,predictions , c='r',label='prédictions')\n",
    "plt.xlabel('petal_length')\n",
    "plt.ylabel('petal_width')\n",
    "plt.legend()\n",
    "plt.show()"
   ]
  },
  {
   "cell_type": "code",
   "execution_count": 60,
   "id": "415ab0a8",
   "metadata": {},
   "outputs": [
    {
     "name": "stdout",
     "output_type": "stream",
     "text": [
      "[0.71022859]\n"
     ]
    }
   ],
   "source": [
    "# Test: # prédire la largeur d'un pétale qui a une longueur de 2,5 cm\n",
    "X_2_5= np.array([2.5,1])\n",
    "pred_y_2_5=model(X_2_5, theta_final) \n",
    "print(pred_y_2_5)"
   ]
  },
  {
   "cell_type": "markdown",
   "id": "3d087de6",
   "metadata": {},
   "source": [
    "## 6. Courbe d'apprentissage\n",
    "\n",
    "   Pour vérifier si notre algorithme de Descente de gradient a bien fonctionné, on observe l'évolution de la fonction cout a travers les itérations. On est sensé obtenir une courbe qui diminue a chaque itération jusqu'a stagner a un niveau minimal (proche de zéro). Si la courbe ne suit pas ce motif, alors le pas learning_rate est peut-etre trop élevé, il faut prendre un pas plus faible."
   ]
  },
  {
   "cell_type": "code",
   "execution_count": 61,
   "id": "519d3dbd",
   "metadata": {
    "scrolled": true
   },
   "outputs": [
    {
     "data": {
      "image/png": "[encoded data removed]",
      "text/plain": [
       "<Figure size 640x480 with 1 Axes>"
      ]
     },
     "metadata": {},
     "output_type": "display_data"
    }
   ],
   "source": [
    "plt.plot(range(n_iterations), cost_history)\n",
    "plt.show()"
   ]
  },
  {
   "cell_type": "markdown",
   "id": "eb5cab7c",
   "metadata": {},
   "source": [
    "## 7. Evaluation du modèle - Coefficient de détermination\n",
    "\n",
    "   Le coefficient de détermination est un indice de la qualité de la prédiction de la régression linéaire. Le coefficient de détermination se situe entre 0 et 1. Plus il est proche de 1, plus la régression linéaire est en adéquation avec les données collectées"
   ]
  },
  {
   "attachments": {
    "Capture%20d'%C3%A9cran%202023-04-04%20123236.png": {
     "image/png": "[encoded data removed]"
    }
   },
   "cell_type": "markdown",
   "id": "cc10bb18",
   "metadata": {},
   "source": [
    "![Capture%20d'%C3%A9cran%202023-04-04%20123236.png](attachment:Capture%20d'%C3%A9cran%202023-04-04%20123236.png)"
   ]
  },
  {
   "cell_type": "code",
   "execution_count": 62,
   "id": "ea8f0458",
   "metadata": {},
   "outputs": [],
   "source": [
    "def coef_determination(y, pred):\n",
    "    u = ((y - pred)**2).sum()\n",
    "    v = ((y - y.mean())**2).sum()\n",
    "    return 1 - u/v"
   ]
  },
  {
   "cell_type": "code",
   "execution_count": 63,
   "id": "406b1dfe",
   "metadata": {},
   "outputs": [
    {
     "data": {
      "text/plain": [
       "0.9249370517181963"
      ]
     },
     "execution_count": 63,
     "metadata": {},
     "output_type": "execute_result"
    }
   ],
   "source": [
    "coef_determination(y, predictions)"
   ]
  },
  {
   "cell_type": "code",
   "execution_count": 64,
   "id": "84d1f8e1",
   "metadata": {},
   "outputs": [
    {
     "data": {
      "text/html": [
       "<div>\n",
       "<style scoped>\n",
       "    .dataframe tbody tr th:only-of-type {\n",
       "        vertical-align: middle;\n",
       "    }\n",
       "\n",
       "    .dataframe tbody tr th {\n",
       "        vertical-align: top;\n",
       "    }\n",
       "\n",
       "    .dataframe thead th {\n",
       "        text-align: right;\n",
       "    }\n",
       "</style>\n",
       "<table border=\"1\" class=\"dataframe\">\n",
       "  <thead>\n",
       "    <tr style=\"text-align: right;\">\n",
       "      <th></th>\n",
       "      <th>sepal_length</th>\n",
       "      <th>sepal_width</th>\n",
       "      <th>petal_length</th>\n",
       "      <th>petal_width</th>\n",
       "    </tr>\n",
       "  </thead>\n",
       "  <tbody>\n",
       "    <tr>\n",
       "      <th>count</th>\n",
       "      <td>150.000000</td>\n",
       "      <td>150.000000</td>\n",
       "      <td>150.000000</td>\n",
       "      <td>150.000000</td>\n",
       "    </tr>\n",
       "    <tr>\n",
       "      <th>mean</th>\n",
       "      <td>5.843333</td>\n",
       "      <td>3.054000</td>\n",
       "      <td>3.758667</td>\n",
       "      <td>1.198667</td>\n",
       "    </tr>\n",
       "    <tr>\n",
       "      <th>std</th>\n",
       "      <td>0.828066</td>\n",
       "      <td>0.433594</td>\n",
       "      <td>1.764420</td>\n",
       "      <td>0.763161</td>\n",
       "    </tr>\n",
       "    <tr>\n",
       "      <th>min</th>\n",
       "      <td>4.300000</td>\n",
       "      <td>2.000000</td>\n",
       "      <td>1.000000</td>\n",
       "      <td>0.100000</td>\n",
       "    </tr>\n",
       "    <tr>\n",
       "      <th>25%</th>\n",
       "      <td>5.100000</td>\n",
       "      <td>2.800000</td>\n",
       "      <td>1.600000</td>\n",
       "      <td>0.300000</td>\n",
       "    </tr>\n",
       "    <tr>\n",
       "      <th>50%</th>\n",
       "      <td>5.800000</td>\n",
       "      <td>3.000000</td>\n",
       "      <td>4.350000</td>\n",
       "      <td>1.300000</td>\n",
       "    </tr>\n",
       "    <tr>\n",
       "      <th>75%</th>\n",
       "      <td>6.400000</td>\n",
       "      <td>3.300000</td>\n",
       "      <td>5.100000</td>\n",
       "      <td>1.800000</td>\n",
       "    </tr>\n",
       "    <tr>\n",
       "      <th>max</th>\n",
       "      <td>7.900000</td>\n",
       "      <td>4.400000</td>\n",
       "      <td>6.900000</td>\n",
       "      <td>2.500000</td>\n",
       "    </tr>\n",
       "  </tbody>\n",
       "</table>\n",
       "</div>"
      ],
      "text/plain": [
       "       sepal_length  sepal_width  petal_length  petal_width\n",
       "count    150.000000   150.000000    150.000000   150.000000\n",
       "mean       5.843333     3.054000      3.758667     1.198667\n",
       "std        0.828066     0.433594      1.764420     0.763161\n",
       "min        4.300000     2.000000      1.000000     0.100000\n",
       "25%        5.100000     2.800000      1.600000     0.300000\n",
       "50%        5.800000     3.000000      4.350000     1.300000\n",
       "75%        6.400000     3.300000      5.100000     1.800000\n",
       "max        7.900000     4.400000      6.900000     2.500000"
      ]
     },
     "execution_count": 64,
     "metadata": {},
     "output_type": "execute_result"
    }
   ],
   "source": [
    "dataset.describe()"
   ]
  },
  {
   "cell_type": "code",
   "execution_count": null,
   "id": "a9ded643",
   "metadata": {},
   "outputs": [],
   "source": []
  }
 ],
 "metadata": {
  "kernelspec": {
   "display_name": "Python 3 (ipykernel)",
   "language": "python",
   "name": "python3"
  },
  "language_info": {
   "codemirror_mode": {
    "name": "ipython",
    "version": 3
   },
   "file_extension": ".py",
   "mimetype": "text/x-python",
   "name": "python",
   "nbconvert_exporter": "python",
   "pygments_lexer": "ipython3",
   "version": "3.9.13"
  }
 },
 "nbformat": 4,
 "nbformat_minor": 5
}
