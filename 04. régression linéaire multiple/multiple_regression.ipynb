{
  "cells": [
    {
      "cell_type": "markdown",
      "id": "254b4384b357fa1c",
      "metadata": {
        "collapsed": false,
        "id": "254b4384b357fa1c"
      },
      "source": []
    },
    {
      "cell_type": "code",
      "execution_count": 19,
      "id": "initial_id",
      "metadata": {
        "ExecuteTime": {
          "end_time": "2024-03-01T23:18:16.312566200Z",
          "start_time": "2024-03-01T23:18:16.262344900Z"
        },
        "collapsed": true,
        "id": "initial_id",
        "outputId": "b62d53de-9c69-4002-e0fc-f1dfac32a34b"
      },
      "outputs": [],
      "source": [
        "\n",
        "import numpy as np\n",
        "import pandas as pd\n",
        "import matplotlib.pyplot as plt\n",
        "from pygments.lexers import go\n",
        "from sklearn.model_selection import train_test_split\n",
        "%matplotlib inline"
      ]
    },
    {
      "cell_type": "code",
      "execution_count": 20,
      "id": "78439049e765595d",
      "metadata": {
        "ExecuteTime": {
          "end_time": "2024-03-01T23:10:34.908601100Z",
          "start_time": "2024-03-01T23:10:34.870697Z"
        },
        "id": "78439049e765595d",
        "outputId": "a9339272-4072-448d-9896-055439f80f64"
      },
      "outputs": [
        {
          "name": "stdout",
          "output_type": "stream",
          "text": [
            "X:         TV  Radio  Newspaper\n",
            "0    230.1   37.8       69.2\n",
            "1     44.5   39.3       45.1\n",
            "2     17.2   45.9       69.3\n",
            "3    151.5   41.3       58.5\n",
            "4    180.8   10.8       58.4\n",
            "..     ...    ...        ...\n",
            "195   38.2    3.7       13.8\n",
            "196   94.2    4.9        8.1\n",
            "197  177.0    9.3        6.4\n",
            "198  283.6   42.0       66.2\n",
            "199  232.1    8.6        8.7\n",
            "\n",
            "[200 rows x 3 columns]\n",
            "Y:      Sales\n",
            "0     22.1\n",
            "1     10.4\n",
            "2     12.0\n",
            "3     16.5\n",
            "4     17.9\n",
            "..     ...\n",
            "195    7.6\n",
            "196   14.0\n",
            "197   14.8\n",
            "198   25.5\n",
            "199   18.4\n",
            "\n",
            "[200 rows x 1 columns]\n"
          ]
        },
        {
          "data": {
            "text/plain": [
              "(200, 1)"
            ]
          },
          "execution_count": 20,
          "metadata": {},
          "output_type": "execute_result"
        }
      ],
      "source": [
        "dataset=pd.read_csv(\"Advertising.csv\")\n",
        "X = dataset[['TV', 'Radio', 'Newspaper']]\n",
        "Y = dataset[['Sales']]\n",
        "print(\"X:\",X)\n",
        "print(\"Y:\",Y)\n",
        "Y.shape\n"
      ]
    },
    {
      "cell_type": "code",
      "execution_count": 3,
      "id": "1a6b3cb2b364e33b",
      "metadata": {
        "ExecuteTime": {
          "end_time": "2024-03-01T23:10:34.992724100Z",
          "start_time": "2024-03-01T23:10:34.918615800Z"
        },
        "id": "1a6b3cb2b364e33b",
        "outputId": "667c93b8-38b3-47dd-9b75-0260bdf6d455"
      },
      "outputs": [
        {
          "name": "stdout",
          "output_type": "stream",
          "text": [
            "(200, 4)\n",
            "[[230.1  37.8  69.2   1. ]\n",
            " [ 44.5  39.3  45.1   1. ]\n",
            " [ 17.2  45.9  69.3   1. ]\n",
            " [151.5  41.3  58.5   1. ]\n",
            " [180.8  10.8  58.4   1. ]\n",
            " [  8.7  48.9  75.    1. ]\n",
            " [ 57.5  32.8  23.5   1. ]\n",
            " [120.2  19.6  11.6   1. ]\n",
            " [  8.6   2.1   1.    1. ]\n",
            " [199.8   2.6  21.2   1. ]]\n"
          ]
        }
      ],
      "source": [
        "X = np.hstack((X, np.ones((X.shape[0], 1)))) # ajoute un vecteur Biais de dimension (x.shape[0], 1)\n",
        "print(X.shape)\n",
        "print(X[:10])"
      ]
    },
    {
      "cell_type": "code",
      "execution_count": 4,
      "id": "50cd0749b08a234d",
      "metadata": {
        "ExecuteTime": {
          "end_time": "2024-03-01T23:10:35.055959700Z",
          "start_time": "2024-03-01T23:10:34.978005300Z"
        },
        "id": "50cd0749b08a234d",
        "outputId": "ccd12b05-28cb-4d40-991b-291328ad8398"
      },
      "outputs": [
        {
          "name": "stdout",
          "output_type": "stream",
          "text": [
            "Shape of X_train: (160, 4)\n",
            "Shape of X_test: (40, 4)\n",
            "Shape of Y_train: (160, 1)\n",
            "Shape of Y_test: (40, 1)\n"
          ]
        }
      ],
      "source": [
        "X_train, X_test, Y_train, Y_test = train_test_split(X, Y, test_size=0.2, random_state=42)\n",
        "\n",
        "print(\"Shape of X_train:\", X_train.shape)\n",
        "print(\"Shape of X_test:\", X_test.shape)\n",
        "print(\"Shape of Y_train:\", Y_train.shape)\n",
        "print(\"Shape of Y_test:\", Y_test.shape)"
      ]
    },
    {
      "cell_type": "code",
      "execution_count": 5,
      "id": "a1ec7dd8323afd8",
      "metadata": {
        "ExecuteTime": {
          "end_time": "2024-03-01T23:10:35.165150700Z",
          "start_time": "2024-03-01T23:10:35.090752700Z"
        },
        "id": "a1ec7dd8323afd8",
        "outputId": "75d904b5-be43-42bf-8f97-69004d45d089"
      },
      "outputs": [
        {
          "name": "stdout",
          "output_type": "stream",
          "text": [
            "(200, 4)\n",
            "(200, 1)\n",
            "(200, 1)\n"
          ]
        }
      ],
      "source": [
        "print(X.shape)\n",
        "print(Y.shape)\n",
        "Y = Y.values.reshape(Y.shape[0], 1)\n",
        "print(Y.shape)"
      ]
    },
    {
      "cell_type": "code",
      "execution_count": 6,
      "id": "b4b6d284a1e73a28",
      "metadata": {
        "ExecuteTime": {
          "end_time": "2024-03-01T23:10:35.190356300Z",
          "start_time": "2024-03-01T23:10:35.154320600Z"
        },
        "id": "b4b6d284a1e73a28",
        "outputId": "4f368537-f153-4b3b-97ae-b51d8cbe103a"
      },
      "outputs": [
        {
          "data": {
            "text/plain": [
              "array([[-0.64742297],\n",
              "       [-1.0300317 ],\n",
              "       [ 0.06957071],\n",
              "       [ 0.88412645]])"
            ]
          },
          "execution_count": 6,
          "metadata": {},
          "output_type": "execute_result"
        }
      ],
      "source": [
        "theta = np.random.randn(4, 1)\n",
        "theta"
      ]
    },
    {
      "cell_type": "code",
      "execution_count": 7,
      "id": "8b2fa4e9254fce53",
      "metadata": {
        "ExecuteTime": {
          "end_time": "2024-03-01T23:10:35.271249800Z",
          "start_time": "2024-03-01T23:10:35.201233400Z"
        },
        "id": "8b2fa4e9254fce53"
      },
      "outputs": [],
      "source": [
        "def model(X, theta):\n",
        "    return X.dot(theta)"
      ]
    },
    {
      "cell_type": "code",
      "execution_count": 8,
      "id": "2e8d7f79ae4fda9d",
      "metadata": {
        "ExecuteTime": {
          "end_time": "2024-03-01T23:10:35.314071100Z",
          "start_time": "2024-03-01T23:10:35.278057200Z"
        },
        "id": "2e8d7f79ae4fda9d"
      },
      "outputs": [],
      "source": [
        "def cost_function(X, y, theta):\n",
        "    m = len(y)\n",
        "    return 1/(2*m) * np.sum((model(X, theta) - y)**2)\n"
      ]
    },
    {
      "cell_type": "code",
      "execution_count": 9,
      "id": "5073f44abeea15",
      "metadata": {
        "ExecuteTime": {
          "end_time": "2024-03-01T23:10:35.338965600Z",
          "start_time": "2024-03-01T23:10:35.303793600Z"
        },
        "id": "5073f44abeea15",
        "outputId": "8078a209-84f6-4a60-eddf-5c624b56ee10"
      },
      "outputs": [
        {
          "data": {
            "text/plain": [
              "10609.59583076106"
            ]
          },
          "execution_count": 9,
          "metadata": {},
          "output_type": "execute_result"
        }
      ],
      "source": [
        "cost_function(X, Y, theta)"
      ]
    },
    {
      "cell_type": "code",
      "execution_count": 10,
      "id": "505f95b2415af7e9",
      "metadata": {
        "ExecuteTime": {
          "end_time": "2024-03-01T23:10:35.367143100Z",
          "start_time": "2024-03-01T23:10:35.344917400Z"
        },
        "id": "505f95b2415af7e9"
      },
      "outputs": [],
      "source": [
        "def grad(X,Y, theta):\n",
        "    m = len(Y)\n",
        "    return 1/m * X.T.dot(model(X, theta) - Y)"
      ]
    },
    {
      "cell_type": "code",
      "execution_count": 11,
      "id": "bceb61fc312d262e",
      "metadata": {
        "ExecuteTime": {
          "end_time": "2024-03-01T23:10:35.424653400Z",
          "start_time": "2024-03-01T23:10:35.372054900Z"
        },
        "id": "bceb61fc312d262e"
      },
      "outputs": [],
      "source": [
        "def gradient_descent(X, y, theta, learning_rate, n_iterations):\n",
        "\n",
        "    cost_history = np.zeros(n_iterations) # création d'un tableau de stockage pour enregistrer l'évolution du Cout du modele\n",
        "\n",
        "    for i in range(0, n_iterations):\n",
        "        theta = theta - learning_rate * grad(X, y, theta) # mise a jour du parametre theta\n",
        "        cost_history[i] = cost_function(X, y, theta)\n",
        "    return theta, cost_history"
      ]
    },
    {
      "cell_type": "markdown",
      "id": "6dc1a519cc912943",
      "metadata": {
        "collapsed": false,
        "id": "6dc1a519cc912943"
      },
      "source": []
    },
    {
      "cell_type": "markdown",
      "id": "e4d896473853ff13",
      "metadata": {
        "collapsed": false,
        "id": "e4d896473853ff13"
      },
      "source": []
    },
    {
      "cell_type": "markdown",
      "id": "fd41454beff5c52f",
      "metadata": {
        "collapsed": false,
        "id": "fd41454beff5c52f"
      },
      "source": [
        "##  Phase d’entrainement"
      ]
    },
    {
      "cell_type": "code",
      "execution_count": 12,
      "id": "7eef6edcf209aff3",
      "metadata": {
        "ExecuteTime": {
          "end_time": "2024-03-01T23:10:35.426955300Z",
          "start_time": "2024-03-01T23:10:35.384085100Z"
        },
        "id": "7eef6edcf209aff3",
        "outputId": "d97def19-87e5-4dba-b6a8-0bada1c96a80"
      },
      "outputs": [
        {
          "name": "stdout",
          "output_type": "stream",
          "text": [
            "y shape: (200, 1)\n",
            "y_train shape: (160, 1)\n",
            "[[22.1]\n",
            " [10.4]\n",
            " [12. ]\n",
            " [16.5]]\n",
            "     Sales\n",
            "79    11.0\n",
            "197   14.8\n",
            "38    10.1\n",
            "24     9.7\n",
            "122   16.6\n",
            "..     ...\n",
            "106    7.2\n",
            "14    19.0\n",
            "92    19.4\n",
            "179   17.6\n",
            "102   19.8\n",
            "\n",
            "[160 rows x 1 columns]\n"
          ]
        }
      ],
      "source": [
        "print(\"y shape:\", Y.shape)\n",
        "print(\"y_train shape:\", Y_train.values.shape)\n",
        "print(Y[:4])\n",
        "print(Y_train)\n",
        "\n",
        "Y_train = Y_train.values\n"
      ]
    },
    {
      "cell_type": "code",
      "execution_count": 13,
      "id": "a6a439281eaa8920",
      "metadata": {
        "ExecuteTime": {
          "end_time": "2024-03-01T23:10:53.378337600Z",
          "start_time": "2024-03-01T23:10:35.434972800Z"
        },
        "id": "a6a439281eaa8920"
      },
      "outputs": [],
      "source": [
        "n_iterations = 1000000\n",
        "learning_rate = 0.00001\n",
        "\n",
        "theta_final, cost_history = gradient_descent(X_train, Y_train, theta, learning_rate, n_iterations)"
      ]
    },
    {
      "cell_type": "code",
      "execution_count": 14,
      "id": "a7fed6924620e4e0",
      "metadata": {
        "ExecuteTime": {
          "end_time": "2024-03-01T23:10:53.395121900Z",
          "start_time": "2024-03-01T23:10:53.381344800Z"
        },
        "id": "a7fed6924620e4e0",
        "outputId": "01ea3878-39e1-4007-81b4-074d80699900"
      },
      "outputs": [
        {
          "data": {
            "text/plain": [
              "array([[0.05719   ],\n",
              "       [0.11041772],\n",
              "       [0.01108556],\n",
              "       [3.76094069]])"
            ]
          },
          "execution_count": 14,
          "metadata": {},
          "output_type": "execute_result"
        }
      ],
      "source": [
        "predictions = model(X, theta_final)\n",
        "\n",
        "theta_final"
      ]
    },
    {
      "cell_type": "code",
      "execution_count": null,
      "id": "1f9c4b3ba20b938c",
      "metadata": {
        "id": "1f9c4b3ba20b938c"
      },
      "outputs": [],
      "source": []
    },
    {
      "cell_type": "code",
      "execution_count": 15,
      "id": "5158ed1733be464e",
      "metadata": {
        "ExecuteTime": {
          "end_time": "2024-03-01T23:28:05.070617100Z",
          "start_time": "2024-03-01T23:28:03.586610200Z"
        },
        "id": "5158ed1733be464e",
        "outputId": "b71b43f9-348f-41d4-bd74-8dbd2aed0f2f"
      },
      "outputs": [
        {
          "data": {
            "application/vnd.plotly.v1+json": {
              "config": {
                "plotlyServerURL": "https://plot.ly"
              },
              "data": [
                {
                  "marker": {
                    "color": [
                      [
                        11
                      ],
                      [
                        14.8
                      ],
                      [
                        10.1
                      ],
                      [
                        9.7
                      ],
                      [
                        16.6
                      ],
                      [
                        7.6
                      ],
                      [
                        10.5
                      ],
                      [
                        14.6
                      ],
                      [
                        10.4
                      ],
                      [
                        12
                      ],
                      [
                        14.6
                      ],
                      [
                        16.7
                      ],
                      [
                        7.2
                      ],
                      [
                        6.6
                      ],
                      [
                        9.4
                      ],
                      [
                        11
                      ],
                      [
                        10.9
                      ],
                      [
                        25.4
                      ],
                      [
                        7.6
                      ],
                      [
                        16.7
                      ],
                      [
                        20
                      ],
                      [
                        20.5
                      ],
                      [
                        11.9
                      ],
                      [
                        9.2
                      ],
                      [
                        17.8
                      ],
                      [
                        6.6
                      ],
                      [
                        20.7
                      ],
                      [
                        6.7
                      ],
                      [
                        14
                      ],
                      [
                        9.5
                      ],
                      [
                        10.7
                      ],
                      [
                        11.9
                      ],
                      [
                        19.9
                      ],
                      [
                        17.1
                      ],
                      [
                        15.9
                      ],
                      [
                        20.9
                      ],
                      [
                        15
                      ],
                      [
                        20.7
                      ],
                      [
                        16.7
                      ],
                      [
                        21.8
                      ],
                      [
                        12
                      ],
                      [
                        14.2
                      ],
                      [
                        10.6
                      ],
                      [
                        17.3
                      ],
                      [
                        11.9
                      ],
                      [
                        20.2
                      ],
                      [
                        13.3
                      ],
                      [
                        25.4
                      ],
                      [
                        10.8
                      ],
                      [
                        24.2
                      ],
                      [
                        5.6
                      ],
                      [
                        19.2
                      ],
                      [
                        23.8
                      ],
                      [
                        17.4
                      ],
                      [
                        17.4
                      ],
                      [
                        17.3
                      ],
                      [
                        12.9
                      ],
                      [
                        11.8
                      ],
                      [
                        20.9
                      ],
                      [
                        15.5
                      ],
                      [
                        17.9
                      ],
                      [
                        13.2
                      ],
                      [
                        20.1
                      ],
                      [
                        10.3
                      ],
                      [
                        19.8
                      ],
                      [
                        12.3
                      ],
                      [
                        12.6
                      ],
                      [
                        20.7
                      ],
                      [
                        17.1
                      ],
                      [
                        18.2
                      ],
                      [
                        8
                      ],
                      [
                        22.1
                      ],
                      [
                        25.5
                      ],
                      [
                        16
                      ],
                      [
                        18.3
                      ],
                      [
                        15.2
                      ],
                      [
                        16
                      ],
                      [
                        8.5
                      ],
                      [
                        18
                      ],
                      [
                        18.9
                      ],
                      [
                        16.6
                      ],
                      [
                        5.3
                      ],
                      [
                        3.2
                      ],
                      [
                        15.3
                      ],
                      [
                        17
                      ],
                      [
                        20.5
                      ],
                      [
                        17.6
                      ],
                      [
                        25.4
                      ],
                      [
                        17.3
                      ],
                      [
                        21.5
                      ],
                      [
                        17.1
                      ],
                      [
                        23.2
                      ],
                      [
                        11.5
                      ],
                      [
                        20.6
                      ],
                      [
                        17.9
                      ],
                      [
                        9.6
                      ],
                      [
                        16.5
                      ],
                      [
                        15
                      ],
                      [
                        21.2
                      ],
                      [
                        19.6
                      ],
                      [
                        15.5
                      ],
                      [
                        16.8
                      ],
                      [
                        22.6
                      ],
                      [
                        9.7
                      ],
                      [
                        11.8
                      ],
                      [
                        11.9
                      ],
                      [
                        13.2
                      ],
                      [
                        18.4
                      ],
                      [
                        7.3
                      ],
                      [
                        13.6
                      ],
                      [
                        20.2
                      ],
                      [
                        17.2
                      ],
                      [
                        16.7
                      ],
                      [
                        4.8
                      ],
                      [
                        13.7
                      ],
                      [
                        18.4
                      ],
                      [
                        17.5
                      ],
                      [
                        17.7
                      ],
                      [
                        24.4
                      ],
                      [
                        8.8
                      ],
                      [
                        27
                      ],
                      [
                        10.8
                      ],
                      [
                        17.2
                      ],
                      [
                        26.2
                      ],
                      [
                        14
                      ],
                      [
                        20.2
                      ],
                      [
                        12
                      ],
                      [
                        16.4
                      ],
                      [
                        14
                      ],
                      [
                        23.8
                      ],
                      [
                        19.8
                      ],
                      [
                        12.9
                      ],
                      [
                        17.5
                      ],
                      [
                        13.2
                      ],
                      [
                        16.4
                      ],
                      [
                        5.9
                      ],
                      [
                        9.7
                      ],
                      [
                        14.7
                      ],
                      [
                        10.1
                      ],
                      [
                        19.6
                      ],
                      [
                        10.4
                      ],
                      [
                        22.6
                      ],
                      [
                        10.1
                      ],
                      [
                        1.6
                      ],
                      [
                        11.6
                      ],
                      [
                        19.7
                      ],
                      [
                        17.2
                      ],
                      [
                        12.2
                      ],
                      [
                        16
                      ],
                      [
                        17
                      ],
                      [
                        7
                      ],
                      [
                        18.4
                      ],
                      [
                        18
                      ],
                      [
                        20.9
                      ],
                      [
                        12.4
                      ],
                      [
                        7.2
                      ],
                      [
                        19
                      ],
                      [
                        19.4
                      ],
                      [
                        17.6
                      ],
                      [
                        19.8
                      ]
                    ],
                    "colorscale": [
                      [
                        0,
                        "#440154"
                      ],
                      [
                        0.1111111111111111,
                        "#482878"
                      ],
                      [
                        0.2222222222222222,
                        "#3e4989"
                      ],
                      [
                        0.3333333333333333,
                        "#31688e"
                      ],
                      [
                        0.4444444444444444,
                        "#26828e"
                      ],
                      [
                        0.5555555555555556,
                        "#1f9e89"
                      ],
                      [
                        0.6666666666666666,
                        "#35b779"
                      ],
                      [
                        0.7777777777777778,
                        "#6ece58"
                      ],
                      [
                        0.8888888888888888,
                        "#b5de2b"
                      ],
                      [
                        1,
                        "#fde725"
                      ]
                    ],
                    "opacity": 0.8,
                    "size": 3
                  },
                  "mode": "markers",
                  "type": "scatter3d",
                  "x": [
                    116,
                    177,
                    43.1,
                    62.3,
                    224,
                    38.2,
                    70.6,
                    147.3,
                    104.6,
                    76.3,
                    78.2,
                    168.4,
                    8.7,
                    7.8,
                    76.4,
                    129.4,
                    73.4,
                    289.7,
                    19.6,
                    197.6,
                    284.3,
                    184.9,
                    112.9,
                    23.8,
                    290.7,
                    19.4,
                    293.6,
                    18.7,
                    134.3,
                    25.6,
                    100.4,
                    80.2,
                    188.4,
                    177,
                    125.7,
                    209.6,
                    142.9,
                    184.9,
                    222.4,
                    241.7,
                    17.2,
                    120.5,
                    89.7,
                    191.1,
                    75.5,
                    193.2,
                    85.7,
                    266.9,
                    39.5,
                    261.3,
                    13.2,
                    193.7,
                    296.4,
                    265.6,
                    214.7,
                    149.7,
                    131.7,
                    57.5,
                    240.1,
                    141.3,
                    180.8,
                    97.2,
                    220.5,
                    140.3,
                    255.4,
                    96.2,
                    66.1,
                    239.3,
                    175.7,
                    240.1,
                    17.9,
                    230.1,
                    283.6,
                    171.3,
                    199.1,
                    123.1,
                    131.1,
                    25.1,
                    163.5,
                    248.8,
                    202.5,
                    13.1,
                    4.1,
                    93.9,
                    262.9,
                    228.3,
                    253.8,
                    243.2,
                    239.8,
                    228,
                    215.4,
                    239.9,
                    107.4,
                    187.8,
                    206.9,
                    43,
                    151.5,
                    137.9,
                    182.6,
                    219.8,
                    156.6,
                    276.7,
                    205,
                    66.9,
                    76.4,
                    95.7,
                    120.2,
                    225.8,
                    28.6,
                    68.4,
                    248.4,
                    218.5,
                    109.8,
                    8.6,
                    97.5,
                    210.7,
                    164.5,
                    265.2,
                    281.4,
                    26.8,
                    276.9,
                    36.9,
                    206.8,
                    287.6,
                    102.7,
                    262.7,
                    90.4,
                    199.8,
                    94.2,
                    210.8,
                    227.2,
                    88.3,
                    237.4,
                    136.2,
                    172.5,
                    17.2,
                    59.6,
                    74.7,
                    149.8,
                    166.8,
                    44.5,
                    216.4,
                    44.7,
                    0.7,
                    121,
                    187.9,
                    135.2,
                    139.2,
                    110.7,
                    213.4,
                    18.8,
                    232.1,
                    218.4,
                    286,
                    109.8,
                    25,
                    204.1,
                    217.7,
                    165.6,
                    280.2
                  ],
                  "y": [
                    7.7,
                    9.3,
                    26.7,
                    12.6,
                    2.4,
                    3.7,
                    16,
                    23.9,
                    5.7,
                    27.5,
                    46.8,
                    7.1,
                    48.9,
                    38.9,
                    0.8,
                    5.7,
                    17,
                    42.3,
                    20.1,
                    3.5,
                    10.6,
                    21,
                    17.4,
                    35.1,
                    4.1,
                    16,
                    27.7,
                    12.1,
                    4.9,
                    39,
                    9.6,
                    0,
                    18.1,
                    33.4,
                    36.9,
                    20.6,
                    29.3,
                    43.9,
                    4.3,
                    38,
                    45.9,
                    28.5,
                    9.9,
                    28.7,
                    10.8,
                    18.4,
                    35.8,
                    43.8,
                    41.1,
                    42.7,
                    15.9,
                    35.4,
                    36.3,
                    20,
                    24,
                    35.6,
                    18.4,
                    32.8,
                    16.7,
                    26.8,
                    10.8,
                    1.5,
                    33.2,
                    1.9,
                    26.9,
                    14.8,
                    5.8,
                    15.5,
                    15.4,
                    7.3,
                    37.6,
                    37.8,
                    42,
                    39.7,
                    30.6,
                    34.6,
                    42.8,
                    25.7,
                    36.8,
                    27.1,
                    22.3,
                    0.4,
                    11.6,
                    43.5,
                    3.5,
                    16.9,
                    21.3,
                    49,
                    4.1,
                    37.7,
                    23.6,
                    41.5,
                    14,
                    21.1,
                    8.4,
                    25.9,
                    41.3,
                    46.4,
                    46.2,
                    33.5,
                    2.6,
                    2.3,
                    45.1,
                    11.7,
                    26.7,
                    1.4,
                    19.6,
                    8.2,
                    1.5,
                    44.5,
                    30.2,
                    5.4,
                    47.8,
                    2.1,
                    7.6,
                    29.5,
                    20.9,
                    2.9,
                    39.6,
                    33,
                    48.9,
                    38.6,
                    5.2,
                    43,
                    29.6,
                    28.8,
                    0.3,
                    3.1,
                    4.9,
                    49.6,
                    15.8,
                    25.5,
                    5.1,
                    19.2,
                    18.1,
                    4.1,
                    12,
                    49.4,
                    1.3,
                    42,
                    39.3,
                    41.7,
                    25.8,
                    39.6,
                    8.4,
                    17.2,
                    41.7,
                    14.3,
                    40.6,
                    24.6,
                    21.7,
                    8.6,
                    27.7,
                    13.9,
                    14.3,
                    11,
                    32.9,
                    33.5,
                    10,
                    10.1
                  ],
                  "z": [
                    23.1,
                    6.4,
                    35.1,
                    18.3,
                    15.6,
                    13.8,
                    40.8,
                    19.1,
                    34.4,
                    16,
                    34.5,
                    12.8,
                    75,
                    50.6,
                    14.8,
                    31.3,
                    12.9,
                    51.2,
                    17,
                    5.9,
                    6.4,
                    22,
                    38.6,
                    65.9,
                    8.5,
                    22.3,
                    1.8,
                    23.4,
                    9.3,
                    9.3,
                    3.6,
                    9.2,
                    25.6,
                    38.7,
                    79.2,
                    10.7,
                    12.6,
                    1.7,
                    49.8,
                    23.2,
                    69.3,
                    14.2,
                    35.7,
                    18.2,
                    6,
                    65.7,
                    49.3,
                    5,
                    5.8,
                    54.7,
                    49.6,
                    75.6,
                    100.9,
                    0.3,
                    4,
                    6,
                    34.6,
                    23.5,
                    22.9,
                    46.2,
                    58.4,
                    30,
                    37.9,
                    9,
                    5.5,
                    38.9,
                    24.2,
                    27.3,
                    2.4,
                    8.7,
                    21.6,
                    69.2,
                    66.2,
                    37.7,
                    38.7,
                    12.4,
                    28.9,
                    43.3,
                    7.4,
                    22.9,
                    31.6,
                    25.6,
                    5.7,
                    50.5,
                    19.5,
                    26.2,
                    30,
                    44.3,
                    36.9,
                    32,
                    57.6,
                    18.5,
                    10.9,
                    9.5,
                    26.4,
                    20.5,
                    58.5,
                    59,
                    58.7,
                    45.1,
                    8.3,
                    23.7,
                    19.6,
                    36.8,
                    22.3,
                    7.4,
                    11.6,
                    56.5,
                    33,
                    35.6,
                    20.3,
                    27.4,
                    51.4,
                    1,
                    7.2,
                    9.3,
                    47.4,
                    43,
                    55.8,
                    19.3,
                    41.8,
                    65.6,
                    19.4,
                    71.8,
                    8.4,
                    15.9,
                    23.2,
                    34.6,
                    8.1,
                    37.7,
                    49.9,
                    73.4,
                    23.5,
                    16.6,
                    30.7,
                    31.6,
                    43.1,
                    45.7,
                    24.3,
                    3.6,
                    45.1,
                    39.6,
                    20.6,
                    8.7,
                    48.7,
                    17.9,
                    45.9,
                    25.6,
                    63.2,
                    13.1,
                    50.4,
                    8.7,
                    53.4,
                    3.7,
                    31.7,
                    29.7,
                    46,
                    59,
                    17.6,
                    21.4
                  ]
                }
              ],
              "layout": {
                "margin": {
                  "b": 0,
                  "l": 0,
                  "r": 0,
                  "t": 0
                },
                "template": {
                  "data": {
                    "bar": [
                      {
                        "error_x": {
                          "color": "#2a3f5f"
                        },
                        "error_y": {
                          "color": "#2a3f5f"
                        },
                        "marker": {
                          "line": {
                            "color": "#E5ECF6",
                            "width": 0.5
                          },
                          "pattern": {
                            "fillmode": "overlay",
                            "size": 10,
                            "solidity": 0.2
                          }
                        },
                        "type": "bar"
                      }
                    ],
                    "barpolar": [
                      {
                        "marker": {
                          "line": {
                            "color": "#E5ECF6",
                            "width": 0.5
                          },
                          "pattern": {
                            "fillmode": "overlay",
                            "size": 10,
                            "solidity": 0.2
                          }
                        },
                        "type": "barpolar"
                      }
                    ],
                    "carpet": [
                      {
                        "aaxis": {
                          "endlinecolor": "#2a3f5f",
                          "gridcolor": "white",
                          "linecolor": "white",
                          "minorgridcolor": "white",
                          "startlinecolor": "#2a3f5f"
                        },
                        "baxis": {
                          "endlinecolor": "#2a3f5f",
                          "gridcolor": "white",
                          "linecolor": "white",
                          "minorgridcolor": "white",
                          "startlinecolor": "#2a3f5f"
                        },
                        "type": "carpet"
                      }
                    ],
                    "choropleth": [
                      {
                        "colorbar": {
                          "outlinewidth": 0,
                          "ticks": ""
                        },
                        "type": "choropleth"
                      }
                    ],
                    "contour": [
                      {
                        "colorbar": {
                          "outlinewidth": 0,
                          "ticks": ""
                        },
                        "colorscale": [
                          [
                            0,
                            "#0d0887"
                          ],
                          [
                            0.1111111111111111,
                            "#46039f"
                          ],
                          [
                            0.2222222222222222,
                            "#7201a8"
                          ],
                          [
                            0.3333333333333333,
                            "#9c179e"
                          ],
                          [
                            0.4444444444444444,
                            "#bd3786"
                          ],
                          [
                            0.5555555555555556,
                            "#d8576b"
                          ],
                          [
                            0.6666666666666666,
                            "#ed7953"
                          ],
                          [
                            0.7777777777777778,
                            "#fb9f3a"
                          ],
                          [
                            0.8888888888888888,
                            "#fdca26"
                          ],
                          [
                            1,
                            "#f0f921"
                          ]
                        ],
                        "type": "contour"
                      }
                    ],
                    "contourcarpet": [
                      {
                        "colorbar": {
                          "outlinewidth": 0,
                          "ticks": ""
                        },
                        "type": "contourcarpet"
                      }
                    ],
                    "heatmap": [
                      {
                        "colorbar": {
                          "outlinewidth": 0,
                          "ticks": ""
                        },
                        "colorscale": [
                          [
                            0,
                            "#0d0887"
                          ],
                          [
                            0.1111111111111111,
                            "#46039f"
                          ],
                          [
                            0.2222222222222222,
                            "#7201a8"
                          ],
                          [
                            0.3333333333333333,
                            "#9c179e"
                          ],
                          [
                            0.4444444444444444,
                            "#bd3786"
                          ],
                          [
                            0.5555555555555556,
                            "#d8576b"
                          ],
                          [
                            0.6666666666666666,
                            "#ed7953"
                          ],
                          [
                            0.7777777777777778,
                            "#fb9f3a"
                          ],
                          [
                            0.8888888888888888,
                            "#fdca26"
                          ],
                          [
                            1,
                            "#f0f921"
                          ]
                        ],
                        "type": "heatmap"
                      }
                    ],
                    "heatmapgl": [
                      {
                        "colorbar": {
                          "outlinewidth": 0,
                          "ticks": ""
                        },
                        "colorscale": [
                          [
                            0,
                            "#0d0887"
                          ],
                          [
                            0.1111111111111111,
                            "#46039f"
                          ],
                          [
                            0.2222222222222222,
                            "#7201a8"
                          ],
                          [
                            0.3333333333333333,
                            "#9c179e"
                          ],
                          [
                            0.4444444444444444,
                            "#bd3786"
                          ],
                          [
                            0.5555555555555556,
                            "#d8576b"
                          ],
                          [
                            0.6666666666666666,
                            "#ed7953"
                          ],
                          [
                            0.7777777777777778,
                            "#fb9f3a"
                          ],
                          [
                            0.8888888888888888,
                            "#fdca26"
                          ],
                          [
                            1,
                            "#f0f921"
                          ]
                        ],
                        "type": "heatmapgl"
                      }
                    ],
                    "histogram": [
                      {
                        "marker": {
                          "pattern": {
                            "fillmode": "overlay",
                            "size": 10,
                            "solidity": 0.2
                          }
                        },
                        "type": "histogram"
                      }
                    ],
                    "histogram2d": [
                      {
                        "colorbar": {
                          "outlinewidth": 0,
                          "ticks": ""
                        },
                        "colorscale": [
                          [
                            0,
                            "#0d0887"
                          ],
                          [
                            0.1111111111111111,
                            "#46039f"
                          ],
                          [
                            0.2222222222222222,
                            "#7201a8"
                          ],
                          [
                            0.3333333333333333,
                            "#9c179e"
                          ],
                          [
                            0.4444444444444444,
                            "#bd3786"
                          ],
                          [
                            0.5555555555555556,
                            "#d8576b"
                          ],
                          [
                            0.6666666666666666,
                            "#ed7953"
                          ],
                          [
                            0.7777777777777778,
                            "#fb9f3a"
                          ],
                          [
                            0.8888888888888888,
                            "#fdca26"
                          ],
                          [
                            1,
                            "#f0f921"
                          ]
                        ],
                        "type": "histogram2d"
                      }
                    ],
                    "histogram2dcontour": [
                      {
                        "colorbar": {
                          "outlinewidth": 0,
                          "ticks": ""
                        },
                        "colorscale": [
                          [
                            0,
                            "#0d0887"
                          ],
                          [
                            0.1111111111111111,
                            "#46039f"
                          ],
                          [
                            0.2222222222222222,
                            "#7201a8"
                          ],
                          [
                            0.3333333333333333,
                            "#9c179e"
                          ],
                          [
                            0.4444444444444444,
                            "#bd3786"
                          ],
                          [
                            0.5555555555555556,
                            "#d8576b"
                          ],
                          [
                            0.6666666666666666,
                            "#ed7953"
                          ],
                          [
                            0.7777777777777778,
                            "#fb9f3a"
                          ],
                          [
                            0.8888888888888888,
                            "#fdca26"
                          ],
                          [
                            1,
                            "#f0f921"
                          ]
                        ],
                        "type": "histogram2dcontour"
                      }
                    ],
                    "mesh3d": [
                      {
                        "colorbar": {
                          "outlinewidth": 0,
                          "ticks": ""
                        },
                        "type": "mesh3d"
                      }
                    ],
                    "parcoords": [
                      {
                        "line": {
                          "colorbar": {
                            "outlinewidth": 0,
                            "ticks": ""
                          }
                        },
                        "type": "parcoords"
                      }
                    ],
                    "pie": [
                      {
                        "automargin": true,
                        "type": "pie"
                      }
                    ],
                    "scatter": [
                      {
                        "fillpattern": {
                          "fillmode": "overlay",
                          "size": 10,
                          "solidity": 0.2
                        },
                        "type": "scatter"
                      }
                    ],
                    "scatter3d": [
                      {
                        "line": {
                          "colorbar": {
                            "outlinewidth": 0,
                            "ticks": ""
                          }
                        },
                        "marker": {
                          "colorbar": {
                            "outlinewidth": 0,
                            "ticks": ""
                          }
                        },
                        "type": "scatter3d"
                      }
                    ],
                    "scattercarpet": [
                      {
                        "marker": {
                          "colorbar": {
                            "outlinewidth": 0,
                            "ticks": ""
                          }
                        },
                        "type": "scattercarpet"
                      }
                    ],
                    "scattergeo": [
                      {
                        "marker": {
                          "colorbar": {
                            "outlinewidth": 0,
                            "ticks": ""
                          }
                        },
                        "type": "scattergeo"
                      }
                    ],
                    "scattergl": [
                      {
                        "marker": {
                          "colorbar": {
                            "outlinewidth": 0,
                            "ticks": ""
                          }
                        },
                        "type": "scattergl"
                      }
                    ],
                    "scattermapbox": [
                      {
                        "marker": {
                          "colorbar": {
                            "outlinewidth": 0,
                            "ticks": ""
                          }
                        },
                        "type": "scattermapbox"
                      }
                    ],
                    "scatterpolar": [
                      {
                        "marker": {
                          "colorbar": {
                            "outlinewidth": 0,
                            "ticks": ""
                          }
                        },
                        "type": "scatterpolar"
                      }
                    ],
                    "scatterpolargl": [
                      {
                        "marker": {
                          "colorbar": {
                            "outlinewidth": 0,
                            "ticks": ""
                          }
                        },
                        "type": "scatterpolargl"
                      }
                    ],
                    "scatterternary": [
                      {
                        "marker": {
                          "colorbar": {
                            "outlinewidth": 0,
                            "ticks": ""
                          }
                        },
                        "type": "scatterternary"
                      }
                    ],
                    "surface": [
                      {
                        "colorbar": {
                          "outlinewidth": 0,
                          "ticks": ""
                        },
                        "colorscale": [
                          [
                            0,
                            "#0d0887"
                          ],
                          [
                            0.1111111111111111,
                            "#46039f"
                          ],
                          [
                            0.2222222222222222,
                            "#7201a8"
                          ],
                          [
                            0.3333333333333333,
                            "#9c179e"
                          ],
                          [
                            0.4444444444444444,
                            "#bd3786"
                          ],
                          [
                            0.5555555555555556,
                            "#d8576b"
                          ],
                          [
                            0.6666666666666666,
                            "#ed7953"
                          ],
                          [
                            0.7777777777777778,
                            "#fb9f3a"
                          ],
                          [
                            0.8888888888888888,
                            "#fdca26"
                          ],
                          [
                            1,
                            "#f0f921"
                          ]
                        ],
                        "type": "surface"
                      }
                    ],
                    "table": [
                      {
                        "cells": {
                          "fill": {
                            "color": "#EBF0F8"
                          },
                          "line": {
                            "color": "white"
                          }
                        },
                        "header": {
                          "fill": {
                            "color": "#C8D4E3"
                          },
                          "line": {
                            "color": "white"
                          }
                        },
                        "type": "table"
                      }
                    ]
                  },
                  "layout": {
                    "annotationdefaults": {
                      "arrowcolor": "#2a3f5f",
                      "arrowhead": 0,
                      "arrowwidth": 1
                    },
                    "autotypenumbers": "strict",
                    "coloraxis": {
                      "colorbar": {
                        "outlinewidth": 0,
                        "ticks": ""
                      }
                    },
                    "colorscale": {
                      "diverging": [
                        [
                          0,
                          "#8e0152"
                        ],
                        [
                          0.1,
                          "#c51b7d"
                        ],
                        [
                          0.2,
                          "#de77ae"
                        ],
                        [
                          0.3,
                          "#f1b6da"
                        ],
                        [
                          0.4,
                          "#fde0ef"
                        ],
                        [
                          0.5,
                          "#f7f7f7"
                        ],
                        [
                          0.6,
                          "#e6f5d0"
                        ],
                        [
                          0.7,
                          "#b8e186"
                        ],
                        [
                          0.8,
                          "#7fbc41"
                        ],
                        [
                          0.9,
                          "#4d9221"
                        ],
                        [
                          1,
                          "#276419"
                        ]
                      ],
                      "sequential": [
                        [
                          0,
                          "#0d0887"
                        ],
                        [
                          0.1111111111111111,
                          "#46039f"
                        ],
                        [
                          0.2222222222222222,
                          "#7201a8"
                        ],
                        [
                          0.3333333333333333,
                          "#9c179e"
                        ],
                        [
                          0.4444444444444444,
                          "#bd3786"
                        ],
                        [
                          0.5555555555555556,
                          "#d8576b"
                        ],
                        [
                          0.6666666666666666,
                          "#ed7953"
                        ],
                        [
                          0.7777777777777778,
                          "#fb9f3a"
                        ],
                        [
                          0.8888888888888888,
                          "#fdca26"
                        ],
                        [
                          1,
                          "#f0f921"
                        ]
                      ],
                      "sequentialminus": [
                        [
                          0,
                          "#0d0887"
                        ],
                        [
                          0.1111111111111111,
                          "#46039f"
                        ],
                        [
                          0.2222222222222222,
                          "#7201a8"
                        ],
                        [
                          0.3333333333333333,
                          "#9c179e"
                        ],
                        [
                          0.4444444444444444,
                          "#bd3786"
                        ],
                        [
                          0.5555555555555556,
                          "#d8576b"
                        ],
                        [
                          0.6666666666666666,
                          "#ed7953"
                        ],
                        [
                          0.7777777777777778,
                          "#fb9f3a"
                        ],
                        [
                          0.8888888888888888,
                          "#fdca26"
                        ],
                        [
                          1,
                          "#f0f921"
                        ]
                      ]
                    },
                    "colorway": [
                      "#636efa",
                      "#EF553B",
                      "#00cc96",
                      "#ab63fa",
                      "#FFA15A",
                      "#19d3f3",
                      "#FF6692",
                      "#B6E880",
                      "#FF97FF",
                      "#FECB52"
                    ],
                    "font": {
                      "color": "#2a3f5f"
                    },
                    "geo": {
                      "bgcolor": "white",
                      "lakecolor": "white",
                      "landcolor": "#E5ECF6",
                      "showlakes": true,
                      "showland": true,
                      "subunitcolor": "white"
                    },
                    "hoverlabel": {
                      "align": "left"
                    },
                    "hovermode": "closest",
                    "mapbox": {
                      "style": "light"
                    },
                    "paper_bgcolor": "white",
                    "plot_bgcolor": "#E5ECF6",
                    "polar": {
                      "angularaxis": {
                        "gridcolor": "white",
                        "linecolor": "white",
                        "ticks": ""
                      },
                      "bgcolor": "#E5ECF6",
                      "radialaxis": {
                        "gridcolor": "white",
                        "linecolor": "white",
                        "ticks": ""
                      }
                    },
                    "scene": {
                      "xaxis": {
                        "backgroundcolor": "#E5ECF6",
                        "gridcolor": "white",
                        "gridwidth": 2,
                        "linecolor": "white",
                        "showbackground": true,
                        "ticks": "",
                        "zerolinecolor": "white"
                      },
                      "yaxis": {
                        "backgroundcolor": "#E5ECF6",
                        "gridcolor": "white",
                        "gridwidth": 2,
                        "linecolor": "white",
                        "showbackground": true,
                        "ticks": "",
                        "zerolinecolor": "white"
                      },
                      "zaxis": {
                        "backgroundcolor": "#E5ECF6",
                        "gridcolor": "white",
                        "gridwidth": 2,
                        "linecolor": "white",
                        "showbackground": true,
                        "ticks": "",
                        "zerolinecolor": "white"
                      }
                    },
                    "shapedefaults": {
                      "line": {
                        "color": "#2a3f5f"
                      }
                    },
                    "ternary": {
                      "aaxis": {
                        "gridcolor": "white",
                        "linecolor": "white",
                        "ticks": ""
                      },
                      "baxis": {
                        "gridcolor": "white",
                        "linecolor": "white",
                        "ticks": ""
                      },
                      "bgcolor": "#E5ECF6",
                      "caxis": {
                        "gridcolor": "white",
                        "linecolor": "white",
                        "ticks": ""
                      }
                    },
                    "title": {
                      "x": 0.05
                    },
                    "xaxis": {
                      "automargin": true,
                      "gridcolor": "white",
                      "linecolor": "white",
                      "ticks": "",
                      "title": {
                        "standoff": 15
                      },
                      "zerolinecolor": "white",
                      "zerolinewidth": 2
                    },
                    "yaxis": {
                      "automargin": true,
                      "gridcolor": "white",
                      "linecolor": "white",
                      "ticks": "",
                      "title": {
                        "standoff": 15
                      },
                      "zerolinecolor": "white",
                      "zerolinewidth": 2
                    }
                  }
                }
              }
            }
          },
          "metadata": {},
          "output_type": "display_data"
        }
      ],
      "source": [
        "\n",
        "\n",
        "# Create a 3D scatter plot\n",
        "import plotly.graph_objects as go\n",
        "\n",
        "fig = go.Figure(data=[go.Scatter3d(\n",
        "    x=X_train[:,0],\n",
        "    y=X_train[:,1],\n",
        "    z=X_train[:,2],\n",
        "    mode='markers',\n",
        "    marker=dict(\n",
        "        size=3,\n",
        "        color=Y_train,                # set color to an array/list of desired values\n",
        "        colorscale='Viridis',   # choose a colorscale\n",
        "        opacity=0.8\n",
        "    )\n",
        ")])\n",
        "# tight layout\n",
        "fig.update_layout(margin=dict(l=0, r=0, b=0, t=0))\n",
        "fig.show()"
      ]
    },
    {
      "cell_type": "code",
      "execution_count": 16,
      "id": "d06cd43686804b5f",
      "metadata": {
        "ExecuteTime": {
          "end_time": "2024-03-01T23:10:53.966346300Z",
          "start_time": "2024-03-01T23:10:53.595923600Z"
        },
        "id": "d06cd43686804b5f",
        "outputId": "93b0557b-6e40-46b9-c2f9-208421f79913"
      },
      "outputs": [
        {
          "data": {
            "image/png": "[encoded data removed]",
            "text/plain": [
              "<Figure size 640x480 with 1 Axes>"
            ]
          },
          "metadata": {},
          "output_type": "display_data"
        }
      ],
      "source": [
        "plt.plot(range(n_iterations), cost_history)\n",
        "plt.show()"
      ]
    },
    {
      "cell_type": "code",
      "execution_count": 17,
      "id": "7d61b32677ae7f49",
      "metadata": {
        "ExecuteTime": {
          "end_time": "2024-03-01T23:10:53.985173700Z",
          "start_time": "2024-03-01T23:10:53.969721300Z"
        },
        "id": "7d61b32677ae7f49"
      },
      "outputs": [],
      "source": [
        "def coef_determination(y, pred):\n",
        "    u = ((y - pred)**2).sum()\n",
        "    v = ((y - y.mean())**2).sum()\n",
        "    return 1 - u/v"
      ]
    },
    {
      "cell_type": "code",
      "execution_count": 18,
      "id": "e34794e78980199",
      "metadata": {
        "ExecuteTime": {
          "end_time": "2024-03-01T23:10:54.003722Z",
          "start_time": "2024-03-01T23:10:53.981198300Z"
        },
        "id": "e34794e78980199",
        "outputId": "5af3a8df-6529-47a8-92b3-da5787de3f2b"
      },
      "outputs": [
        {
          "data": {
            "text/plain": [
              "0.897875690519503"
            ]
          },
          "execution_count": 18,
          "metadata": {},
          "output_type": "execute_result"
        }
      ],
      "source": [
        "coef_determination(Y, predictions)"
      ]
    }
  ],
  "metadata": {
    "colab": {
      "provenance": []
    },
    "kernelspec": {
      "display_name": "Python 3",
      "language": "python",
      "name": "python3"
    },
    "language_info": {
      "codemirror_mode": {
        "name": "ipython",
        "version": 3
      },
      "file_extension": ".py",
      "mimetype": "text/x-python",
      "name": "python",
      "nbconvert_exporter": "python",
      "pygments_lexer": "ipython3",
      "version": "3.11.8"
    }
  },
  "nbformat": 4,
  "nbformat_minor": 5
}
