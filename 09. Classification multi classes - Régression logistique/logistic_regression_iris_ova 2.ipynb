{
 "cells": [
  {
   "cell_type": "code",
   "execution_count": 5,
   "metadata": {},
   "outputs": [],
   "source": [
    "import numpy as np\n",
    "import matplotlib.pyplot as plt\n",
    "import pandas as pd"
   ]
  },
  {
   "cell_type": "markdown",
   "metadata": {},
   "source": [
    "#### dataset"
   ]
  },
  {
   "cell_type": "code",
   "execution_count": 6,
   "metadata": {},
   "outputs": [],
   "source": [
    "dataset = pd.read_csv('iris.csv')\n",
    "X = dataset[['sepal_length', 'sepal_width', 'petal_length']].values\n",
    "y = dataset['class'].values"
   ]
  },
  {
   "cell_type": "code",
   "execution_count": 7,
   "metadata": {},
   "outputs": [
    {
     "data": {
      "text/html": [
       "<div>\n",
       "<style scoped>\n",
       "    .dataframe tbody tr th:only-of-type {\n",
       "        vertical-align: middle;\n",
       "    }\n",
       "\n",
       "    .dataframe tbody tr th {\n",
       "        vertical-align: top;\n",
       "    }\n",
       "\n",
       "    .dataframe thead th {\n",
       "        text-align: right;\n",
       "    }\n",
       "</style>\n",
       "<table border=\"1\" class=\"dataframe\">\n",
       "  <thead>\n",
       "    <tr style=\"text-align: right;\">\n",
       "      <th></th>\n",
       "      <th>sepal_length</th>\n",
       "      <th>sepal_width</th>\n",
       "      <th>petal_length</th>\n",
       "      <th>petal_width</th>\n",
       "    </tr>\n",
       "  </thead>\n",
       "  <tbody>\n",
       "    <tr>\n",
       "      <th>count</th>\n",
       "      <td>150.000000</td>\n",
       "      <td>150.000000</td>\n",
       "      <td>150.000000</td>\n",
       "      <td>150.000000</td>\n",
       "    </tr>\n",
       "    <tr>\n",
       "      <th>mean</th>\n",
       "      <td>5.843333</td>\n",
       "      <td>3.054000</td>\n",
       "      <td>3.758667</td>\n",
       "      <td>1.198667</td>\n",
       "    </tr>\n",
       "    <tr>\n",
       "      <th>std</th>\n",
       "      <td>0.828066</td>\n",
       "      <td>0.433594</td>\n",
       "      <td>1.764420</td>\n",
       "      <td>0.763161</td>\n",
       "    </tr>\n",
       "    <tr>\n",
       "      <th>min</th>\n",
       "      <td>4.300000</td>\n",
       "      <td>2.000000</td>\n",
       "      <td>1.000000</td>\n",
       "      <td>0.100000</td>\n",
       "    </tr>\n",
       "    <tr>\n",
       "      <th>25%</th>\n",
       "      <td>5.100000</td>\n",
       "      <td>2.800000</td>\n",
       "      <td>1.600000</td>\n",
       "      <td>0.300000</td>\n",
       "    </tr>\n",
       "    <tr>\n",
       "      <th>50%</th>\n",
       "      <td>5.800000</td>\n",
       "      <td>3.000000</td>\n",
       "      <td>4.350000</td>\n",
       "      <td>1.300000</td>\n",
       "    </tr>\n",
       "    <tr>\n",
       "      <th>75%</th>\n",
       "      <td>6.400000</td>\n",
       "      <td>3.300000</td>\n",
       "      <td>5.100000</td>\n",
       "      <td>1.800000</td>\n",
       "    </tr>\n",
       "    <tr>\n",
       "      <th>max</th>\n",
       "      <td>7.900000</td>\n",
       "      <td>4.400000</td>\n",
       "      <td>6.900000</td>\n",
       "      <td>2.500000</td>\n",
       "    </tr>\n",
       "  </tbody>\n",
       "</table>\n",
       "</div>"
      ],
      "text/plain": [
       "       sepal_length  sepal_width  petal_length  petal_width\n",
       "count    150.000000   150.000000    150.000000   150.000000\n",
       "mean       5.843333     3.054000      3.758667     1.198667\n",
       "std        0.828066     0.433594      1.764420     0.763161\n",
       "min        4.300000     2.000000      1.000000     0.100000\n",
       "25%        5.100000     2.800000      1.600000     0.300000\n",
       "50%        5.800000     3.000000      4.350000     1.300000\n",
       "75%        6.400000     3.300000      5.100000     1.800000\n",
       "max        7.900000     4.400000      6.900000     2.500000"
      ]
     },
     "execution_count": 7,
     "metadata": {},
     "output_type": "execute_result"
    }
   ],
   "source": [
    "dataset.describe()"
   ]
  },
  {
   "cell_type": "code",
   "execution_count": 8,
   "metadata": {},
   "outputs": [],
   "source": [
    "from sklearn.model_selection import train_test_split\n",
    "X_train, X_test, y_train, y_test = train_test_split(X, y, test_size=0.2, random_state=42)"
   ]
  },
  {
   "cell_type": "markdown",
   "metadata": {},
   "source": [
    "####  regression_logistique"
   ]
  },
  {
   "cell_type": "code",
   "execution_count": 9,
   "metadata": {},
   "outputs": [],
   "source": [
    "from sklearn.linear_model import LogisticRegression\n",
    "classifier = LogisticRegression(random_state = 0, solver='lbfgs', multi_class='auto')"
   ]
  },
  {
   "cell_type": "markdown",
   "metadata": {},
   "source": [
    "#### One Versus Rest approche"
   ]
  },
  {
   "cell_type": "code",
   "execution_count": 10,
   "metadata": {},
   "outputs": [],
   "source": [
    "# feature scaling \n",
    "from sklearn.preprocessing import StandardScaler\n",
    "sc = StandardScaler()\n",
    "X_train = sc.fit_transform(X_train)\n",
    "X_test = sc.transform(X_test)\n"
   ]
  },
  {
   "cell_type": "code",
   "execution_count": 11,
   "metadata": {},
   "outputs": [],
   "source": [
    "def ovr_y (class_name) : \n",
    "    return np.where(y_train == class_name , 1, 0) , np.where(y_test == class_name, 1, 0)"
   ]
  },
  {
   "cell_type": "code",
   "execution_count": 12,
   "metadata": {},
   "outputs": [
    {
     "data": {
      "text/plain": [
       "[array([8.98815798e-03, 9.56696897e-01, 1.69910415e-05, 1.87045018e-02,\n",
       "        2.46135513e-03, 9.34542228e-01, 1.12842190e-01, 3.42054768e-03,\n",
       "        1.64250201e-03, 3.19686027e-02, 8.95549746e-03, 9.29844857e-01,\n",
       "        9.55576878e-01, 9.29784928e-01, 9.87476680e-01, 2.86509673e-02,\n",
       "        1.88879355e-03, 2.45411935e-02, 2.26801013e-02, 1.60265044e-03,\n",
       "        9.56130723e-01, 1.24703882e-02, 9.60354391e-01, 1.60265044e-03,\n",
       "        9.09406441e-04, 3.07586566e-03, 2.98973221e-04, 1.83069863e-03,\n",
       "        9.29844857e-01, 9.31684178e-01]),\n",
       " array([0.47356495, 0.0485197 , 0.70111196, 0.39719044, 0.52670152,\n",
       "        0.13091124, 0.37954581, 0.32020259, 0.8435394 , 0.53415323,\n",
       "        0.23703809, 0.28720601, 0.10509199, 0.2359921 , 0.04101283,\n",
       "        0.18237945, 0.34852944, 0.65862698, 0.44537018, 0.48431974,\n",
       "        0.17738759, 0.33185646, 0.11677718, 0.48431974, 0.07219671,\n",
       "        0.3706414 , 0.70966042, 0.24595923, 0.28720601, 0.22942111]),\n",
       " array([4.05974544e-01, 6.65488634e-04, 9.90316731e-01, 2.96654924e-01,\n",
       "        4.76689348e-01, 4.89326958e-04, 5.44479414e-02, 6.10638430e-01,\n",
       "        3.61253254e-01, 1.08514890e-01, 5.91617037e-01, 4.33526781e-04,\n",
       "        3.08192104e-04, 5.23054398e-04, 4.06168556e-04, 3.64563570e-01,\n",
       "        8.77191549e-01, 1.14244092e-01, 2.98492463e-01, 8.32093199e-01,\n",
       "        6.12274900e-04, 4.93713753e-01, 5.83702528e-04, 8.32093199e-01,\n",
       "        9.56711038e-01, 6.64995555e-01, 8.98566201e-01, 8.94263580e-01,\n",
       "        4.33526781e-04, 6.43072007e-04])]"
      ]
     },
     "execution_count": 12,
     "metadata": {},
     "output_type": "execute_result"
    }
   ],
   "source": [
    "classnames = ['Iris-setosa', 'Iris-versicolor', 'Iris-virginica']\n",
    "ovr_probabilities = []\n",
    "\n",
    "for class_name in classnames:\n",
    "    ovr_y_train, ovr_y_test = ovr_y(class_name)\n",
    "    \n",
    "    classifier.fit(X_train, ovr_y_train)\n",
    "    \n",
    "    probs_y = classifier.predict_proba(X_test)[:, 1]\n",
    "    \n",
    "    ovr_probabilities.append(probs_y)\n",
    "\n",
    "\n",
    "ovr_probabilities"
   ]
  },
  {
   "cell_type": "code",
   "execution_count": 13,
   "metadata": {},
   "outputs": [
    {
     "data": {
      "text/plain": [
       "['Iris-versicolor',\n",
       " 'Iris-setosa',\n",
       " 'Iris-virginica',\n",
       " 'Iris-versicolor',\n",
       " 'Iris-versicolor',\n",
       " 'Iris-setosa',\n",
       " 'Iris-versicolor',\n",
       " 'Iris-virginica',\n",
       " 'Iris-versicolor',\n",
       " 'Iris-versicolor',\n",
       " 'Iris-virginica',\n",
       " 'Iris-setosa',\n",
       " 'Iris-setosa',\n",
       " 'Iris-setosa',\n",
       " 'Iris-setosa',\n",
       " 'Iris-virginica',\n",
       " 'Iris-virginica',\n",
       " 'Iris-versicolor',\n",
       " 'Iris-versicolor',\n",
       " 'Iris-virginica',\n",
       " 'Iris-setosa',\n",
       " 'Iris-virginica',\n",
       " 'Iris-setosa',\n",
       " 'Iris-virginica',\n",
       " 'Iris-virginica',\n",
       " 'Iris-virginica',\n",
       " 'Iris-virginica',\n",
       " 'Iris-virginica',\n",
       " 'Iris-setosa',\n",
       " 'Iris-setosa']"
      ]
     },
     "execution_count": 13,
     "metadata": {},
     "output_type": "execute_result"
    }
   ],
   "source": [
    "prediction = []\n",
    "\n",
    "for i in range(len(ovr_probabilities[0])):\n",
    "    max_index = np.argmax([ovr_probabilities[j][i] for j in range(3)])    \n",
    "    prediction.append(classnames[max_index])\n",
    "\n",
    "prediction\n",
    "\n"
   ]
  },
  {
   "cell_type": "code",
   "execution_count": 14,
   "metadata": {},
   "outputs": [
    {
     "name": "stdout",
     "output_type": "stream",
     "text": [
      "y_test         |  y_pred      | Setosa(%)     | versicolor(%)    | virginica(%)\n",
      "-----------------------------------------------------------------\n",
      "Iris-versicolor | Iris-versicolor | 0.008988157980320806 | 0.4735649504219366 |  0.40597454447004305\n",
      "Iris-setosa | Iris-setosa | 0.9566968969508061 | 0.04851969648496181 |  0.0006654886335668798\n",
      "Iris-virginica | Iris-virginica | 1.6991041494734583e-05 | 0.7011119636796543 |  0.9903167310172374\n",
      "Iris-versicolor | Iris-versicolor | 0.0187045018232133 | 0.3971904408075547 |  0.2966549236570513\n",
      "Iris-versicolor | Iris-versicolor | 0.002461355129482885 | 0.5267015215327135 |  0.4766893476206377\n",
      "Iris-setosa | Iris-setosa | 0.9345422277120139 | 0.13091124270149693 |  0.0004893269577784966\n",
      "Iris-versicolor | Iris-versicolor | 0.11284219014232263 | 0.37954581196805304 |  0.05444794139185312\n",
      "Iris-virginica | Iris-virginica | 0.0034205476848793645 | 0.32020259460310746 |  0.6106384295430802\n",
      "Iris-versicolor | Iris-versicolor | 0.0016425020058192141 | 0.8435394023782452 |  0.36125325403734493\n",
      "Iris-versicolor | Iris-versicolor | 0.031968602669374936 | 0.5341532326098691 |  0.10851489041994676\n",
      "Iris-virginica | Iris-virginica | 0.008955497455850978 | 0.2370380899034502 |  0.5916170370613506\n",
      "Iris-setosa | Iris-setosa | 0.9298448568934193 | 0.2872060058971055 |  0.000433526780861853\n",
      "Iris-setosa | Iris-setosa | 0.9555768777349598 | 0.10509199229226704 |  0.0003081921041124153\n",
      "Iris-setosa | Iris-setosa | 0.9297849277381296 | 0.23599210070942475 |  0.0005230543981681463\n",
      "Iris-setosa | Iris-setosa | 0.9874766804193871 | 0.041012827811645704 |  0.0004061685562854243\n",
      "Iris-versicolor | Iris-virginica | 0.028650967305066066 | 0.18237945456312457 |  0.36456357024921565\n",
      "Iris-virginica | Iris-virginica | 0.0018887935541906248 | 0.34852944163885285 |  0.8771915489068335\n",
      "Iris-versicolor | Iris-versicolor | 0.024541193513505373 | 0.6586269789773569 |  0.1142440923520297\n",
      "Iris-versicolor | Iris-versicolor | 0.02268010132417907 | 0.4453701773599384 |  0.2984924633076309\n",
      "Iris-virginica | Iris-virginica | 0.0016026504364014345 | 0.48431974463642574 |  0.8320931985355059\n",
      "Iris-setosa | Iris-setosa | 0.9561307227644804 | 0.17738758973701974 |  0.0006122749003558519\n",
      "Iris-virginica | Iris-virginica | 0.012470388247218668 | 0.3318564603346934 |  0.4937137533041708\n",
      "Iris-setosa | Iris-setosa | 0.960354391381517 | 0.11677717649767749 |  0.0005837025279769902\n",
      "Iris-virginica | Iris-virginica | 0.0016026504364014345 | 0.48431974463642574 |  0.8320931985355059\n",
      "Iris-virginica | Iris-virginica | 0.0009094064408503034 | 0.0721967051374241 |  0.956711038336072\n",
      "Iris-virginica | Iris-virginica | 0.0030758656598649094 | 0.37064140402882234 |  0.664995555137792\n",
      "Iris-virginica | Iris-virginica | 0.00029897322092944755 | 0.7096604234240028 |  0.8985662005382462\n",
      "Iris-virginica | Iris-virginica | 0.001830698630374953 | 0.2459592286223612 |  0.8942635795267334\n",
      "Iris-setosa | Iris-setosa | 0.9298448568934193 | 0.2872060058971055 |  0.000433526780861853\n",
      "Iris-setosa | Iris-setosa | 0.9316841776740511 | 0.22942110794480444 |  0.000643072006529982\n",
      "-----------------------------------------------------------------\n",
      "\n"
     ]
    }
   ],
   "source": [
    "res = \"{:<10}     |  {:<10}  | {:<10}    | {:<13}    | {:<5}\".format(\"y_test\", \"y_pred\", \"Setosa(%)\", \"versicolor(%)\", \"virginica(%)\\n\")\n",
    "res += \"-\"*65+\"\\n\"\n",
    "res += \"\\n\".join(\"{:<10} | {:<10} | {:<10} | {:<13} |  {:<10}\".format(x, y, a, b, c) for x, y, a, b, c in zip(y_test, prediction, ovr_probabilities[0], ovr_probabilities[1], ovr_probabilities[2]))\n",
    "res += \"\\n\"+\"-\"*65+\"\\n\"\n",
    "print(res)"
   ]
  },
  {
   "cell_type": "code",
   "execution_count": 15,
   "metadata": {},
   "outputs": [
    {
     "name": "stdout",
     "output_type": "stream",
     "text": [
      "[[10  0  0]\n",
      " [ 0  8  1]\n",
      " [ 0  0 11]]\n"
     ]
    }
   ],
   "source": [
    "# Making the Confusion Matrix\n",
    "from sklearn.metrics import confusion_matrix\n",
    "cm = confusion_matrix(y_test, prediction)\n",
    "print(cm)"
   ]
  },
  {
   "cell_type": "code",
   "execution_count": 16,
   "metadata": {},
   "outputs": [
    {
     "data": {
      "image/png": "[encoded data removed]",
      "text/plain": [
       "<Figure size 640x480 with 2 Axes>"
      ]
     },
     "metadata": {},
     "output_type": "display_data"
    }
   ],
   "source": [
    "# Plot confusion matrix\n",
    "import seaborn as sns\n",
    "import pandas as pd\n",
    "# confusion matrix sns heatmap \n",
    "## https://www.kaggle.com/agungor2/various-confusion-matrix-plots\n",
    "ax = plt.axes()\n",
    "df_cm = cm\n",
    "sns.heatmap(df_cm, annot=True, annot_kws={\"size\": 30}, fmt='d',cmap=\"Blues\", ax = ax )\n",
    "ax.set_title('Confusion Matrix')\n",
    "plt.show()"
   ]
  }
 ],
 "metadata": {
  "kernelspec": {
   "display_name": "issam36",
   "language": "python",
   "name": "python3"
  },
  "language_info": {
   "codemirror_mode": {
    "name": "ipython",
    "version": 3
   },
   "file_extension": ".py",
   "mimetype": "text/x-python",
   "name": "python",
   "nbconvert_exporter": "python",
   "pygments_lexer": "ipython3",
   "version": "3.11.9"
  }
 },
 "nbformat": 4,
 "nbformat_minor": 2
}
