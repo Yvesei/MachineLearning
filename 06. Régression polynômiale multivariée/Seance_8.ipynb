{
  "cells": [
    {
      "cell_type": "markdown",
      "metadata": {
        "id": "F60C-tIYsEVe"
      },
      "source": [
        "# PW 8 : Regularization\n"
      ]
    },
    {
      "cell_type": "markdown",
      "metadata": {},
      "source": []
    },
    {
      "cell_type": "markdown",
      "metadata": {},
      "source": []
    },
    {
      "cell_type": "markdown",
      "metadata": {
        "id": "dEOzKLISr677"
      },
      "source": [
        "## Importing libraries and dataset :"
      ]
    },
    {
      "cell_type": "markdown",
      "metadata": {
        "id": "buvhPxSEsdYg"
      },
      "source": [
        "Importing libraries :"
      ]
    },
    {
      "cell_type": "code",
      "execution_count": null,
      "metadata": {
        "id": "P8Y2HJFQevQ2"
      },
      "outputs": [],
      "source": [
        "import pandas as pd\n",
        "import numpy as np\n",
        "import matplotlib.pyplot as plt\n",
        "import seaborn as sns"
      ]
    },
    {
      "cell_type": "markdown",
      "metadata": {
        "id": "sfrVcQ8wsgJr"
      },
      "source": [
        "Importing dataset :"
      ]
    },
    {
      "cell_type": "code",
      "execution_count": null,
      "metadata": {
        "colab": {
          "base_uri": "https://localhost:8080/",
          "height": 206
        },
        "id": "aRJu2IHNs96s",
        "outputId": "1c42e1e7-97db-4514-c3a5-5f860b033722"
      },
      "outputs": [
        {
          "data": {
            "application/vnd.google.colaboratory.intrinsic+json": {
              "summary": "{\n  \"name\": \"dataset\",\n  \"rows\": 400,\n  \"fields\": [\n    {\n      \"column\": \"Med_1_mL\",\n      \"properties\": {\n        \"dtype\": \"number\",\n        \"std\": 2.319059338447238,\n        \"min\": 1.0,\n        \"max\": 10.0,\n        \"num_unique_values\": 400,\n        \"samples\": [\n          7.398749660232369,\n          2.8108392083988045,\n          8.354708001373984\n        ],\n        \"semantic_type\": \"\",\n        \"description\": \"\"\n      }\n    },\n    {\n      \"column\": \"Med_2_mL\",\n      \"properties\": {\n        \"dtype\": \"number\",\n        \"std\": 2.3366369113106704,\n        \"min\": 1.0,\n        \"max\": 10.0,\n        \"num_unique_values\": 400,\n        \"samples\": [\n          7.083283424878087,\n          4.0025830611237305,\n          6.150184913028031\n        ],\n        \"semantic_type\": \"\",\n        \"description\": \"\"\n      }\n    },\n    {\n      \"column\": \"Virus Present\",\n      \"properties\": {\n        \"dtype\": \"number\",\n        \"std\": 0,\n        \"min\": 0,\n        \"max\": 1,\n        \"num_unique_values\": 2,\n        \"samples\": [\n          1,\n          0\n        ],\n        \"semantic_type\": \"\",\n        \"description\": \"\"\n      }\n    }\n  ]\n}",
              "type": "dataframe",
              "variable_name": "dataset"
            },
            "text/html": [
              "\n",
              "  <div id=\"df-aa31a11b-cad9-4ab1-a16e-009f4876f5bc\" class=\"colab-df-container\">\n",
              "    <div>\n",
              "<style scoped>\n",
              "    .dataframe tbody tr th:only-of-type {\n",
              "        vertical-align: middle;\n",
              "    }\n",
              "\n",
              "    .dataframe tbody tr th {\n",
              "        vertical-align: top;\n",
              "    }\n",
              "\n",
              "    .dataframe thead th {\n",
              "        text-align: right;\n",
              "    }\n",
              "</style>\n",
              "<table border=\"1\" class=\"dataframe\">\n",
              "  <thead>\n",
              "    <tr style=\"text-align: right;\">\n",
              "      <th></th>\n",
              "      <th>Med_1_mL</th>\n",
              "      <th>Med_2_mL</th>\n",
              "      <th>Virus Present</th>\n",
              "    </tr>\n",
              "  </thead>\n",
              "  <tbody>\n",
              "    <tr>\n",
              "      <th>0</th>\n",
              "      <td>6.508231</td>\n",
              "      <td>8.582531</td>\n",
              "      <td>0</td>\n",
              "    </tr>\n",
              "    <tr>\n",
              "      <th>1</th>\n",
              "      <td>4.126116</td>\n",
              "      <td>3.073459</td>\n",
              "      <td>1</td>\n",
              "    </tr>\n",
              "    <tr>\n",
              "      <th>2</th>\n",
              "      <td>6.427870</td>\n",
              "      <td>6.369758</td>\n",
              "      <td>0</td>\n",
              "    </tr>\n",
              "    <tr>\n",
              "      <th>3</th>\n",
              "      <td>3.672953</td>\n",
              "      <td>4.905215</td>\n",
              "      <td>1</td>\n",
              "    </tr>\n",
              "    <tr>\n",
              "      <th>4</th>\n",
              "      <td>1.580321</td>\n",
              "      <td>2.440562</td>\n",
              "      <td>1</td>\n",
              "    </tr>\n",
              "  </tbody>\n",
              "</table>\n",
              "</div>\n",
              "    <div class=\"colab-df-buttons\">\n",
              "\n",
              "  <div class=\"colab-df-container\">\n",
              "    <button class=\"colab-df-convert\" onclick=\"convertToInteractive('df-aa31a11b-cad9-4ab1-a16e-009f4876f5bc')\"\n",
              "            title=\"Convert this dataframe to an interactive table.\"\n",
              "            style=\"display:none;\">\n",
              "\n",
              "  <svg xmlns=\"http://www.w3.org/2000/svg\" height=\"24px\" viewBox=\"0 -960 960 960\">\n",
              "    <path d=\"M120-120v-720h720v720H120Zm60-500h600v-160H180v160Zm220 220h160v-160H400v160Zm0 220h160v-160H400v160ZM180-400h160v-160H180v160Zm440 0h160v-160H620v160ZM180-180h160v-160H180v160Zm440 0h160v-160H620v160Z\"/>\n",
              "  </svg>\n",
              "    </button>\n",
              "\n",
              "  <style>\n",
              "    .colab-df-container {\n",
              "      display:flex;\n",
              "      gap: 12px;\n",
              "    }\n",
              "\n",
              "    .colab-df-convert {\n",
              "      background-color: #E8F0FE;\n",
              "      border: none;\n",
              "      border-radius: 50%;\n",
              "      cursor: pointer;\n",
              "      display: none;\n",
              "      fill: #1967D2;\n",
              "      height: 32px;\n",
              "      padding: 0 0 0 0;\n",
              "      width: 32px;\n",
              "    }\n",
              "\n",
              "    .colab-df-convert:hover {\n",
              "      background-color: #E2EBFA;\n",
              "      box-shadow: 0px 1px 2px rgba(60, 64, 67, 0.3), 0px 1px 3px 1px rgba(60, 64, 67, 0.15);\n",
              "      fill: #174EA6;\n",
              "    }\n",
              "\n",
              "    .colab-df-buttons div {\n",
              "      margin-bottom: 4px;\n",
              "    }\n",
              "\n",
              "    [theme=dark] .colab-df-convert {\n",
              "      background-color: #3B4455;\n",
              "      fill: #D2E3FC;\n",
              "    }\n",
              "\n",
              "    [theme=dark] .colab-df-convert:hover {\n",
              "      background-color: #434B5C;\n",
              "      box-shadow: 0px 1px 3px 1px rgba(0, 0, 0, 0.15);\n",
              "      filter: drop-shadow(0px 1px 2px rgba(0, 0, 0, 0.3));\n",
              "      fill: #FFFFFF;\n",
              "    }\n",
              "  </style>\n",
              "\n",
              "    <script>\n",
              "      const buttonEl =\n",
              "        document.querySelector('#df-aa31a11b-cad9-4ab1-a16e-009f4876f5bc button.colab-df-convert');\n",
              "      buttonEl.style.display =\n",
              "        google.colab.kernel.accessAllowed ? 'block' : 'none';\n",
              "\n",
              "      async function convertToInteractive(key) {\n",
              "        const element = document.querySelector('#df-aa31a11b-cad9-4ab1-a16e-009f4876f5bc');\n",
              "        const dataTable =\n",
              "          await google.colab.kernel.invokeFunction('convertToInteractive',\n",
              "                                                    [key], {});\n",
              "        if (!dataTable) return;\n",
              "\n",
              "        const docLinkHtml = 'Like what you see? Visit the ' +\n",
              "          '<a target=\"_blank\" href=https://colab.research.google.com/notebooks/data_table.ipynb>data table notebook</a>'\n",
              "          + ' to learn more about interactive tables.';\n",
              "        element.innerHTML = '';\n",
              "        dataTable['output_type'] = 'display_data';\n",
              "        await google.colab.output.renderOutput(dataTable, element);\n",
              "        const docLink = document.createElement('div');\n",
              "        docLink.innerHTML = docLinkHtml;\n",
              "        element.appendChild(docLink);\n",
              "      }\n",
              "    </script>\n",
              "  </div>\n",
              "\n",
              "\n",
              "<div id=\"df-f48eaafe-0ecd-41fc-b7d8-ed5deed17482\">\n",
              "  <button class=\"colab-df-quickchart\" onclick=\"quickchart('df-f48eaafe-0ecd-41fc-b7d8-ed5deed17482')\"\n",
              "            title=\"Suggest charts\"\n",
              "            style=\"display:none;\">\n",
              "\n",
              "<svg xmlns=\"http://www.w3.org/2000/svg\" height=\"24px\"viewBox=\"0 0 24 24\"\n",
              "     width=\"24px\">\n",
              "    <g>\n",
              "        <path d=\"M19 3H5c-1.1 0-2 .9-2 2v14c0 1.1.9 2 2 2h14c1.1 0 2-.9 2-2V5c0-1.1-.9-2-2-2zM9 17H7v-7h2v7zm4 0h-2V7h2v10zm4 0h-2v-4h2v4z\"/>\n",
              "    </g>\n",
              "</svg>\n",
              "  </button>\n",
              "\n",
              "<style>\n",
              "  .colab-df-quickchart {\n",
              "      --bg-color: #E8F0FE;\n",
              "      --fill-color: #1967D2;\n",
              "      --hover-bg-color: #E2EBFA;\n",
              "      --hover-fill-color: #174EA6;\n",
              "      --disabled-fill-color: #AAA;\n",
              "      --disabled-bg-color: #DDD;\n",
              "  }\n",
              "\n",
              "  [theme=dark] .colab-df-quickchart {\n",
              "      --bg-color: #3B4455;\n",
              "      --fill-color: #D2E3FC;\n",
              "      --hover-bg-color: #434B5C;\n",
              "      --hover-fill-color: #FFFFFF;\n",
              "      --disabled-bg-color: #3B4455;\n",
              "      --disabled-fill-color: #666;\n",
              "  }\n",
              "\n",
              "  .colab-df-quickchart {\n",
              "    background-color: var(--bg-color);\n",
              "    border: none;\n",
              "    border-radius: 50%;\n",
              "    cursor: pointer;\n",
              "    display: none;\n",
              "    fill: var(--fill-color);\n",
              "    height: 32px;\n",
              "    padding: 0;\n",
              "    width: 32px;\n",
              "  }\n",
              "\n",
              "  .colab-df-quickchart:hover {\n",
              "    background-color: var(--hover-bg-color);\n",
              "    box-shadow: 0 1px 2px rgba(60, 64, 67, 0.3), 0 1px 3px 1px rgba(60, 64, 67, 0.15);\n",
              "    fill: var(--button-hover-fill-color);\n",
              "  }\n",
              "\n",
              "  .colab-df-quickchart-complete:disabled,\n",
              "  .colab-df-quickchart-complete:disabled:hover {\n",
              "    background-color: var(--disabled-bg-color);\n",
              "    fill: var(--disabled-fill-color);\n",
              "    box-shadow: none;\n",
              "  }\n",
              "\n",
              "  .colab-df-spinner {\n",
              "    border: 2px solid var(--fill-color);\n",
              "    border-color: transparent;\n",
              "    border-bottom-color: var(--fill-color);\n",
              "    animation:\n",
              "      spin 1s steps(1) infinite;\n",
              "  }\n",
              "\n",
              "  @keyframes spin {\n",
              "    0% {\n",
              "      border-color: transparent;\n",
              "      border-bottom-color: var(--fill-color);\n",
              "      border-left-color: var(--fill-color);\n",
              "    }\n",
              "    20% {\n",
              "      border-color: transparent;\n",
              "      border-left-color: var(--fill-color);\n",
              "      border-top-color: var(--fill-color);\n",
              "    }\n",
              "    30% {\n",
              "      border-color: transparent;\n",
              "      border-left-color: var(--fill-color);\n",
              "      border-top-color: var(--fill-color);\n",
              "      border-right-color: var(--fill-color);\n",
              "    }\n",
              "    40% {\n",
              "      border-color: transparent;\n",
              "      border-right-color: var(--fill-color);\n",
              "      border-top-color: var(--fill-color);\n",
              "    }\n",
              "    60% {\n",
              "      border-color: transparent;\n",
              "      border-right-color: var(--fill-color);\n",
              "    }\n",
              "    80% {\n",
              "      border-color: transparent;\n",
              "      border-right-color: var(--fill-color);\n",
              "      border-bottom-color: var(--fill-color);\n",
              "    }\n",
              "    90% {\n",
              "      border-color: transparent;\n",
              "      border-bottom-color: var(--fill-color);\n",
              "    }\n",
              "  }\n",
              "</style>\n",
              "\n",
              "  <script>\n",
              "    async function quickchart(key) {\n",
              "      const quickchartButtonEl =\n",
              "        document.querySelector('#' + key + ' button');\n",
              "      quickchartButtonEl.disabled = true;  // To prevent multiple clicks.\n",
              "      quickchartButtonEl.classList.add('colab-df-spinner');\n",
              "      try {\n",
              "        const charts = await google.colab.kernel.invokeFunction(\n",
              "            'suggestCharts', [key], {});\n",
              "      } catch (error) {\n",
              "        console.error('Error during call to suggestCharts:', error);\n",
              "      }\n",
              "      quickchartButtonEl.classList.remove('colab-df-spinner');\n",
              "      quickchartButtonEl.classList.add('colab-df-quickchart-complete');\n",
              "    }\n",
              "    (() => {\n",
              "      let quickchartButtonEl =\n",
              "        document.querySelector('#df-f48eaafe-0ecd-41fc-b7d8-ed5deed17482 button');\n",
              "      quickchartButtonEl.style.display =\n",
              "        google.colab.kernel.accessAllowed ? 'block' : 'none';\n",
              "    })();\n",
              "  </script>\n",
              "</div>\n",
              "\n",
              "    </div>\n",
              "  </div>\n"
            ],
            "text/plain": [
              "   Med_1_mL  Med_2_mL  Virus Present\n",
              "0  6.508231  8.582531              0\n",
              "1  4.126116  3.073459              1\n",
              "2  6.427870  6.369758              0\n",
              "3  3.672953  4.905215              1\n",
              "4  1.580321  2.440562              1"
            ]
          },
          "execution_count": 978,
          "metadata": {},
          "output_type": "execute_result"
        }
      ],
      "source": [
        "dataset = pd.read_csv(\"mouse_viral_study.csv\")\n",
        "\n",
        "dataset.head()"
      ]
    },
    {
      "cell_type": "markdown",
      "metadata": {
        "id": "R3E2sB1ysjrm"
      },
      "source": [
        "## Discovering dataset :"
      ]
    },
    {
      "cell_type": "code",
      "execution_count": null,
      "metadata": {
        "colab": {
          "base_uri": "https://localhost:8080/"
        },
        "id": "BeejCjCNtEuH",
        "outputId": "b4cca689-fde0-4cfc-8033-3027b0fda5ef"
      },
      "outputs": [
        {
          "name": "stdout",
          "output_type": "stream",
          "text": [
            "<class 'pandas.core.frame.DataFrame'>\n",
            "RangeIndex: 400 entries, 0 to 399\n",
            "Data columns (total 3 columns):\n",
            " #   Column         Non-Null Count  Dtype  \n",
            "---  ------         --------------  -----  \n",
            " 0   Med_1_mL       400 non-null    float64\n",
            " 1   Med_2_mL       400 non-null    float64\n",
            " 2   Virus Present  400 non-null    int64  \n",
            "dtypes: float64(2), int64(1)\n",
            "memory usage: 9.5 KB\n"
          ]
        }
      ],
      "source": [
        "dataset.info()"
      ]
    },
    {
      "cell_type": "code",
      "execution_count": null,
      "metadata": {
        "colab": {
          "base_uri": "https://localhost:8080/",
          "height": 430
        },
        "id": "_0vg-44JtSE8",
        "outputId": "bef89fb8-3178-4f4e-e10b-379104fec0ec"
      },
      "outputs": [
        {
          "data": {
            "image/png": "[encoded data removed]",
            "text/plain": [
              "<Figure size 640x480 with 1 Axes>"
            ]
          },
          "metadata": {},
          "output_type": "display_data"
        }
      ],
      "source": [
        "sns.boxplot(data=dataset)\n",
        "plt.show()"
      ]
    },
    {
      "cell_type": "markdown",
      "metadata": {
        "id": "a-ZhXm44tFA-"
      },
      "source": [
        "## Analyzing :"
      ]
    },
    {
      "cell_type": "markdown",
      "metadata": {
        "id": "CEPcRS74tImO"
      },
      "source": [
        "Select our feature and also our target :"
      ]
    },
    {
      "cell_type": "code",
      "execution_count": null,
      "metadata": {
        "id": "KCercmumtqfa"
      },
      "outputs": [],
      "source": [
        "X = dataset[\"Med_1_mL\"]\n",
        "y = dataset[\"Med_2_mL\"]"
      ]
    },
    {
      "cell_type": "markdown",
      "metadata": {
        "id": "4Q4nvYsOtWxG"
      },
      "source": [
        "Visualize the distribution :"
      ]
    },
    {
      "cell_type": "code",
      "execution_count": null,
      "metadata": {
        "colab": {
          "base_uri": "https://localhost:8080/",
          "height": 450
        },
        "id": "DC9cVWB1tzQ4",
        "outputId": "0dbf6f4f-4c1a-4758-ba59-7b307bd84da2"
      },
      "outputs": [
        {
          "data": {
            "image/png": "[encoded data removed]",
            "text/plain": [
              "<Figure size 640x480 with 1 Axes>"
            ]
          },
          "metadata": {},
          "output_type": "display_data"
        }
      ],
      "source": [
        "sns.scatterplot(x=X, y=y)\n",
        "plt.show()"
      ]
    },
    {
      "cell_type": "markdown",
      "metadata": {
        "id": "ksaMl9TguF89"
      },
      "source": [
        "Prepare our dataset to train our model :"
      ]
    },
    {
      "cell_type": "code",
      "execution_count": null,
      "metadata": {
        "id": "pYpZdiHUuFEJ"
      },
      "outputs": [],
      "source": [
        "X = X.values.reshape(-1, 1)\n",
        "y = y.values"
      ]
    },
    {
      "cell_type": "markdown",
      "metadata": {
        "id": "80wrUXL_ux-n"
      },
      "source": [
        "Splitting the dataset :"
      ]
    },
    {
      "cell_type": "code",
      "execution_count": null,
      "metadata": {
        "id": "1EkJhPlmuwvK"
      },
      "outputs": [],
      "source": [
        "from sklearn.model_selection import train_test_split\n",
        "\n",
        "X_train, X_test, y_train, y_test = train_test_split(X, y, test_size=0.2, random_state=42)"
      ]
    },
    {
      "cell_type": "markdown",
      "metadata": {
        "id": "I3g-_wDZuakZ"
      },
      "source": [
        "## The model :"
      ]
    },
    {
      "cell_type": "markdown",
      "metadata": {
        "id": "oeeVQtBbvNRI"
      },
      "source": [
        "For this dataset, we are using a polynomial model."
      ]
    },
    {
      "cell_type": "code",
      "execution_count": null,
      "metadata": {
        "id": "eL5IflAauUcn"
      },
      "outputs": [],
      "source": [
        "from sklearn.preprocessing import PolynomialFeatures\n",
        "from sklearn.linear_model import LinearRegression"
      ]
    },
    {
      "cell_type": "markdown",
      "metadata": {
        "id": "D3_xNMg_vqpS"
      },
      "source": [
        "## Selecting the best degree using the BIC method :"
      ]
    },
    {
      "cell_type": "markdown",
      "metadata": {
        "id": "SV3JSONIw8O2"
      },
      "source": [
        "Implementing the BIC formula :"
      ]
    },
    {
      "cell_type": "code",
      "execution_count": null,
      "metadata": {
        "id": "C3om1VsCvwDU"
      },
      "outputs": [],
      "source": [
        "from sklearn.metrics import mean_squared_error\n",
        "\n",
        "def BIC(max_degree, training_data):\n",
        "  bic_values = []\n",
        "  models = []\n",
        "\n",
        "  for degree in range(1, max_degree+1):\n",
        "    poly_features = PolynomialFeatures(degree=degree)\n",
        "    X_train_poly = poly_features.fit_transform(X_train)\n",
        "\n",
        "    model = LinearRegression()\n",
        "    model.fit(X_train_poly, y_train)\n",
        "\n",
        "    num_params = X_train_poly.shape[1]\n",
        "\n",
        "    y_train_pred = model.predict(X_train_poly)\n",
        "    log_likelihood = -0.5 * len(X_train) * np.log(mean_squared_error(y_train, y_train_pred))\n",
        "\n",
        "    bic = -2 * log_likelihood + num_params * np.log(len(X_train))\n",
        "\n",
        "    bic_values.append(bic)\n",
        "    models.append(model)\n",
        "\n",
        "  return models, bic_values"
      ]
    },
    {
      "cell_type": "markdown",
      "metadata": {
        "id": "XgO3jEyrxbm6"
      },
      "source": [
        "Running the function :"
      ]
    },
    {
      "cell_type": "code",
      "execution_count": null,
      "metadata": {
        "id": "SDn4MQVexKnO"
      },
      "outputs": [],
      "source": [
        "models, bic_values = BIC(17, X_train)"
      ]
    },
    {
      "cell_type": "markdown",
      "metadata": {
        "id": "FZsaBBNCxzxX"
      },
      "source": [
        "Visualizing the BIC values :"
      ]
    },
    {
      "cell_type": "code",
      "execution_count": null,
      "metadata": {
        "colab": {
          "base_uri": "https://localhost:8080/",
          "height": 472
        },
        "id": "aP5duaAPxm6V",
        "outputId": "88635499-d3ed-4557-f6f6-b2486b70abd3"
      },
      "outputs": [
        {
          "data": {
            "image/png": "[encoded data removed]",
            "text/plain": [
              "<Figure size 640x480 with 1 Axes>"
            ]
          },
          "metadata": {},
          "output_type": "display_data"
        }
      ],
      "source": [
        "plt.plot(range(1, 18), bic_values, marker='o')\n",
        "plt.xlabel('Polynomial Degree')\n",
        "plt.ylabel('BIC Value')\n",
        "plt.title('BIC Values vs. Polynomial Degree')\n",
        "plt.xticks(range(1, 18))\n",
        "plt.grid(True)\n",
        "plt.show()"
      ]
    },
    {
      "cell_type": "markdown",
      "metadata": {
        "id": "arZFljYwx8l_"
      },
      "source": [
        "As we see here, the BIC method give us an insight about the the best degree to run our polymonial model is 9th degree."
      ]
    },
    {
      "cell_type": "markdown",
      "metadata": {
        "id": "CTJhy3SOyZ70"
      },
      "source": [
        "## Creating from scratch a polymonial model for the 17th degree :"
      ]
    },
    {
      "cell_type": "markdown",
      "metadata": {
        "id": "sXWZGYumzuIq"
      },
      "source": [
        "### Preparing the training dataset:"
      ]
    },
    {
      "cell_type": "markdown",
      "metadata": {
        "id": "WSBiQEj8y1ZJ"
      },
      "source": [
        "Grapping our feature and our target :"
      ]
    },
    {
      "cell_type": "code",
      "execution_count": null,
      "metadata": {
        "colab": {
          "base_uri": "https://localhost:8080/"
        },
        "id": "2jIeBZ_Uxfrs",
        "outputId": "d2853f11-9e9a-4bf6-afcc-73aff81fb807"
      },
      "outputs": [
        {
          "name": "stdout",
          "output_type": "stream",
          "text": [
            "(400, 1)\n",
            "(400,)\n"
          ]
        }
      ],
      "source": [
        "print(X.shape)\n",
        "print(y.shape)"
      ]
    },
    {
      "cell_type": "markdown",
      "metadata": {
        "id": "liyaEF-GzE3i"
      },
      "source": [
        "Preparing our dataset for the 17th degree"
      ]
    },
    {
      "cell_type": "code",
      "execution_count": null,
      "metadata": {
        "colab": {
          "base_uri": "https://localhost:8080/"
        },
        "id": "4G7W6KVBzN3k",
        "outputId": "f2fdc0c0-1995-437f-904d-570f386559be"
      },
      "outputs": [
        {
          "name": "stdout",
          "output_type": "stream",
          "text": [
            "The shape : (400, 17)\n",
            "[[6.50823109e+00 4.23570720e+01 2.75669613e+02 1.79412154e+03\n",
            "  1.16765576e+04 7.59937354e+04 4.94584791e+05 3.21887212e+06\n",
            "  2.09491636e+07 1.36341998e+08 8.87345230e+08 5.77504782e+09\n",
            "  3.75853458e+10 2.44614116e+11 1.59200519e+12 1.03611377e+13\n",
            "  6.74326786e+13]\n",
            " [4.12611616e+00 1.70248346e+01 7.02464450e+01 2.89844992e+02\n",
            "  1.19593410e+03 4.93456303e+03 2.03605803e+04 8.40101193e+04\n",
            "  3.46635511e+05 1.43025838e+06 5.90141222e+06 2.43499123e+07\n",
            "  1.00470567e+08 4.14553229e+08 1.71049478e+09 7.05770014e+09\n",
            "  2.91208906e+10]]\n"
          ]
        }
      ],
      "source": [
        "X_powers = np.empty((X.shape[0], 0))\n",
        "\n",
        "for i in range(1, 18):\n",
        "  X_power = X ** i\n",
        "  X_powers = np.hstack((X_powers, X_power))\n",
        "\n",
        "print(f\"The shape : {X_powers.shape}\")\n",
        "print(X_powers[:2])"
      ]
    },
    {
      "cell_type": "markdown",
      "metadata": {
        "id": "T1A3Xd5GGvY1"
      },
      "source": [
        "For avoiding the overflow error, I normalize the dataset using zscore"
      ]
    },
    {
      "cell_type": "code",
      "execution_count": null,
      "metadata": {
        "colab": {
          "base_uri": "https://localhost:8080/"
        },
        "id": "hT6kP3L8-ASQ",
        "outputId": "0705065a-d9e6-4a98-ea30-0b5b6e5eacbb"
      },
      "outputs": [
        {
          "name": "stdout",
          "output_type": "stream",
          "text": [
            "[[ 0.4577611   0.2869266   0.11304565 -0.04037883 -0.16249441 -0.25111627\n",
            "  -0.30921129 -0.34216029 -0.35592861 -0.35602809 -0.34704813 -0.33254184\n",
            "  -0.31510387 -0.29653133 -0.27800278 -0.2602421  -0.24365363]\n",
            " [-0.57071546 -0.70712952 -0.76547292 -0.76817943 -0.73708539 -0.68846126\n",
            "  -0.63284447 -0.57643843 -0.52260422 -0.47297923 -0.42820225 -0.38835198\n",
            "  -0.35320505 -0.32238732 -0.29546252 -0.27198383 -0.25152292]]\n"
          ]
        }
      ],
      "source": [
        "def normalize_zscore(data):\n",
        "    mean = np.mean(data, axis=0)\n",
        "    std_dev = np.std(data, axis=0)\n",
        "    normalized_data = (data - mean) / std_dev\n",
        "    return normalized_data\n",
        "\n",
        "X_powers = normalize_zscore(X_powers)\n",
        "\n",
        "print(X_powers[:2])"
      ]
    },
    {
      "cell_type": "markdown",
      "metadata": {
        "id": "MOSmnyMTz5OM"
      },
      "source": [
        "Splitting the dataset :"
      ]
    },
    {
      "cell_type": "code",
      "execution_count": null,
      "metadata": {
        "colab": {
          "base_uri": "https://localhost:8080/"
        },
        "id": "89442jGWz4ta",
        "outputId": "f52e3c50-fbe1-4ffb-9c14-3dcf4523ee95"
      },
      "outputs": [
        {
          "name": "stdout",
          "output_type": "stream",
          "text": [
            "(320, 17)\n",
            "(320,)\n"
          ]
        }
      ],
      "source": [
        "X_train, X_test, y_train, y_test = train_test_split(X_powers, y,\n",
        "                                                        test_size=0.2,\n",
        "                                                        random_state=101)\n",
        "\n",
        "print(X_train.shape)\n",
        "print(y_train.shape)"
      ]
    },
    {
      "cell_type": "code",
      "execution_count": null,
      "metadata": {
        "colab": {
          "base_uri": "https://localhost:8080/"
        },
        "id": "4y_4qUsU4HMu",
        "outputId": "b77c8d93-b869-47dd-c8b8-994f5f9129fb"
      },
      "outputs": [
        {
          "name": "stdout",
          "output_type": "stream",
          "text": [
            "(320, 18)\n",
            "(320,)\n"
          ]
        }
      ],
      "source": [
        "X_train = np.hstack((X_train, np.ones((X_train.shape[0], 1))))\n",
        "X_test = np.hstack((X_test, np.ones((X_test.shape[0], 1))))\n",
        "\n",
        "print(X_train.shape)\n",
        "print(y_train.shape)"
      ]
    },
    {
      "cell_type": "markdown",
      "metadata": {
        "id": "FZOMSbk50dcj"
      },
      "source": [
        "### The model :"
      ]
    },
    {
      "cell_type": "code",
      "execution_count": null,
      "metadata": {
        "id": "v0Eeo48DvYAd"
      },
      "outputs": [],
      "source": [
        "def model(X, theta):\n",
        "    return X.dot(theta)\n",
        "\n",
        "def cost_function(X, y, theta):\n",
        "    m = len(y)\n",
        "    return 1/(2*m) * np.sum((model(X, theta) - y)**2)\n",
        "\n",
        "def grad(X, y, theta):\n",
        "    m = len(y)\n",
        "    return 1/m * X.T.dot(model(X, theta) - y)\n",
        "\n",
        "def gradient_descent(X, y, theta, learning_rate, n_iterations):\n",
        "    cost_history = np.zeros(n_iterations)\n",
        "\n",
        "    for i in range(0, n_iterations):\n",
        "        theta = theta - learning_rate * grad(X, y, theta)\n",
        "        cost_history[i] = cost_function(X, y, theta)\n",
        "\n",
        "    return theta[:, 0].reshape(-1, 1), cost_history"
      ]
    },
    {
      "cell_type": "markdown",
      "metadata": {
        "id": "mtjN8ofp8Pyb"
      },
      "source": [
        "### Training the model :"
      ]
    },
    {
      "cell_type": "markdown",
      "metadata": {
        "id": "F8Q3VOEY1QQ5"
      },
      "source": [
        "Initializing our paramaters :"
      ]
    },
    {
      "cell_type": "code",
      "execution_count": null,
      "metadata": {
        "colab": {
          "base_uri": "https://localhost:8080/"
        },
        "id": "OTfF0pDa0mqh",
        "outputId": "0e0fed4d-1cfb-4e81-80c6-7077b2b66273"
      },
      "outputs": [
        {
          "data": {
            "text/plain": [
              "(18, 1)"
            ]
          },
          "execution_count": 995,
          "metadata": {},
          "output_type": "execute_result"
        }
      ],
      "source": [
        "theta = np.random.randn(X_train.shape[1], 1)\n",
        "\n",
        "n_iterations = 1000\n",
        "learning_rate = 1e-2\n",
        "\n",
        "theta.shape"
      ]
    },
    {
      "cell_type": "code",
      "execution_count": null,
      "metadata": {
        "colab": {
          "base_uri": "https://localhost:8080/"
        },
        "id": "7IJDu5Vot9Ox",
        "outputId": "f1bbb04f-e794-4939-b70c-6d7b19222d8f"
      },
      "outputs": [
        {
          "name": "stdout",
          "output_type": "stream",
          "text": [
            "(18, 1)\n"
          ]
        }
      ],
      "source": [
        "theta_final, cost_history = gradient_descent(X_train, y_train, theta, learning_rate, n_iterations)\n",
        "\n",
        "print(theta_final.shape)"
      ]
    },
    {
      "cell_type": "code",
      "execution_count": null,
      "metadata": {
        "colab": {
          "base_uri": "https://localhost:8080/",
          "height": 430
        },
        "id": "ajcavpsc6477",
        "outputId": "6b417030-6e88-4fac-cd59-adc1ac569f18"
      },
      "outputs": [
        {
          "data": {
            "image/png": "[encoded data removed]",
            "text/plain": [
              "<Figure size 640x480 with 1 Axes>"
            ]
          },
          "metadata": {},
          "output_type": "display_data"
        }
      ],
      "source": [
        "plt.plot(range(n_iterations), cost_history)\n",
        "plt.show()"
      ]
    },
    {
      "cell_type": "markdown",
      "metadata": {
        "id": "ROBPuadW8YNo"
      },
      "source": [
        "### Evaluating :"
      ]
    },
    {
      "cell_type": "code",
      "execution_count": null,
      "metadata": {
        "colab": {
          "base_uri": "https://localhost:8080/"
        },
        "id": "OPzkumyg7Txh",
        "outputId": "4a9834b0-26a5-4a27-f4c7-6403bbb517ef"
      },
      "outputs": [
        {
          "data": {
            "text/plain": [
              "(320, 1)"
            ]
          },
          "execution_count": 998,
          "metadata": {},
          "output_type": "execute_result"
        }
      ],
      "source": [
        "pred_train = model(X_train, theta)\n",
        "pred_test = model(X_test, theta)\n",
        "\n",
        "pred_train.shape"
      ]
    },
    {
      "cell_type": "code",
      "execution_count": null,
      "metadata": {
        "colab": {
          "base_uri": "https://localhost:8080/",
          "height": 450
        },
        "id": "aDdu0pVb7inF",
        "outputId": "48875470-7aa0-43f7-d39b-d9cab90b6499"
      },
      "outputs": [
        {
          "data": {
            "image/png": "[encoded data removed]",
            "text/plain": [
              "<Figure size 640x480 with 1 Axes>"
            ]
          },
          "metadata": {},
          "output_type": "display_data"
        }
      ],
      "source": [
        "plt.plot(X_train[:, 0], y_train, 'o', label=\"dataset\")\n",
        "plt.plot(X_train[:, 0], pred_train[:, 0],'o', label='modèle')\n",
        "plt.xlabel('Med_1_mL')\n",
        "plt.ylabel('Med_2_mL')\n",
        "plt.legend()\n",
        "plt.show()"
      ]
    },
    {
      "cell_type": "markdown",
      "metadata": {
        "id": "jlPvO3DH_8PA"
      },
      "source": [
        "## Correcting the overffiting using L1 :"
      ]
    },
    {
      "cell_type": "markdown",
      "metadata": {
        "id": "IVJiEaSZE8fR"
      },
      "source": [
        "Implementing the L1 formula :"
      ]
    },
    {
      "cell_type": "code",
      "execution_count": null,
      "metadata": {
        "id": "c8K9y01R_tOm"
      },
      "outputs": [],
      "source": [
        "def model(X, theta):\n",
        "    return X.dot(theta)\n",
        "\n",
        "def cost_function(X, y, theta, a):\n",
        "    m = len(y)\n",
        "    return 1/(2*m) * np.sum((model(X, theta) - y)**2) + a/m * np.linalg.norm(theta, ord=1)\n",
        "\n",
        "def grad(X, y, theta, a):\n",
        "    m = len(y)\n",
        "    return 1/m * X.T.dot(model(X, theta) - y) + a/m * theta *np.sign(theta)\n",
        "\n",
        "def gradient_descent(X, y, theta, learning_rate, n_iterations, a):\n",
        "    cost_history = np.zeros(n_iterations)\n",
        "\n",
        "    for i in range(0, n_iterations):\n",
        "        theta = theta - learning_rate * grad(X, y, theta, a)\n",
        "        cost_history[i] = cost_function(X, y, theta, a)\n",
        "\n",
        "    return theta[:, 0].reshape(-1, 1), cost_history"
      ]
    },
    {
      "cell_type": "code",
      "execution_count": null,
      "metadata": {
        "colab": {
          "base_uri": "https://localhost:8080/"
        },
        "id": "86tSZDLTAjf0",
        "outputId": "45cb4e6d-d760-47f7-de4a-3131bdc28544"
      },
      "outputs": [
        {
          "data": {
            "text/plain": [
              "(18, 1)"
            ]
          },
          "execution_count": 1001,
          "metadata": {},
          "output_type": "execute_result"
        }
      ],
      "source": [
        "theta = np.random.randn(X_train.shape[1], 1)\n",
        "\n",
        "n_iterations = 1000\n",
        "learning_rate = 1e-2\n",
        "\n",
        "theta.shape"
      ]
    },
    {
      "cell_type": "code",
      "execution_count": null,
      "metadata": {
        "colab": {
          "base_uri": "https://localhost:8080/"
        },
        "id": "s7gsvCF9AmPQ",
        "outputId": "2c0f410e-1a5e-4702-86f1-5e3c1164cc2a"
      },
      "outputs": [
        {
          "name": "stdout",
          "output_type": "stream",
          "text": [
            "(18, 1)\n"
          ]
        }
      ],
      "source": [
        "theta_final, cost_history = gradient_descent(X_train, y_train, theta, learning_rate, n_iterations, 1)\n",
        "\n",
        "print(theta_final.shape)"
      ]
    },
    {
      "cell_type": "code",
      "execution_count": null,
      "metadata": {
        "colab": {
          "base_uri": "https://localhost:8080/",
          "height": 430
        },
        "id": "_9js6xeXAvuL",
        "outputId": "c040cea6-cc58-4c2b-ebad-4e6b45fe2203"
      },
      "outputs": [
        {
          "data": {
            "image/png": "[encoded data removed]",
            "text/plain": [
              "<Figure size 640x480 with 1 Axes>"
            ]
          },
          "metadata": {},
          "output_type": "display_data"
        }
      ],
      "source": [
        "plt.plot(range(n_iterations), cost_history)\n",
        "plt.show()"
      ]
    },
    {
      "cell_type": "code",
      "execution_count": null,
      "metadata": {
        "colab": {
          "base_uri": "https://localhost:8080/"
        },
        "id": "GfGotm2RA05U",
        "outputId": "82e8f7bb-d4f2-4da5-87c5-7c90a3fa1600"
      },
      "outputs": [
        {
          "data": {
            "text/plain": [
              "(320, 1)"
            ]
          },
          "execution_count": 1004,
          "metadata": {},
          "output_type": "execute_result"
        }
      ],
      "source": [
        "pred_train = model(X_train, theta)\n",
        "pred_test = model(X_test, theta)\n",
        "\n",
        "pred_train.shape"
      ]
    },
    {
      "cell_type": "code",
      "execution_count": null,
      "metadata": {
        "colab": {
          "base_uri": "https://localhost:8080/",
          "height": 450
        },
        "id": "rWrsejExA6Ba",
        "outputId": "226d705c-e6ec-4a7a-9d2e-cf0467d89b97"
      },
      "outputs": [
        {
          "data": {
            "image/png": "[encoded data removed]",
            "text/plain": [
              "<Figure size 640x480 with 1 Axes>"
            ]
          },
          "metadata": {},
          "output_type": "display_data"
        }
      ],
      "source": [
        "plt.plot(X_train[:, 0], y_train, 'o', label=\"dataset\")\n",
        "plt.plot(X_train[:, 0], pred_train[:, 0],'o', label='modèle')\n",
        "plt.xlabel('Med_1_mL')\n",
        "plt.ylabel('Med_2_mL')\n",
        "plt.legend()\n",
        "plt.show()"
      ]
    },
    {
      "cell_type": "markdown",
      "metadata": {
        "id": "Drt2dwJkD31L"
      },
      "source": [
        "## Correcting the overffiting using L2 :"
      ]
    },
    {
      "cell_type": "markdown",
      "metadata": {
        "id": "5KTtwbJCFL27"
      },
      "source": [
        "Implementing the L2 formula :"
      ]
    },
    {
      "cell_type": "code",
      "execution_count": null,
      "metadata": {
        "id": "JuXp_LI5D5Nh"
      },
      "outputs": [],
      "source": [
        "def model(X, theta):\n",
        "    return X.dot(theta)\n",
        "\n",
        "def cost_function(X, y, theta, a):\n",
        "    m = len(y)\n",
        "    return 1/(2*m) * np.sum((model(X, theta) - y)**2) + a/(2*m) * np.sum(theta[0:len(theta)-1]**2)\n",
        "\n",
        "def grad(X, y, theta, a):\n",
        "    m = len(y)\n",
        "    return 1/m * X.T.dot(model(X, theta) - y) + a/m * theta\n",
        "\n",
        "def gradient_descent(X, y, theta, learning_rate, n_iterations, a):\n",
        "    cost_history = np.zeros(n_iterations)\n",
        "\n",
        "    for i in range(0, n_iterations):\n",
        "        theta = theta - learning_rate * grad(X, y, theta, a)\n",
        "        cost_history[i] = cost_function(X, y, theta, a)\n",
        "\n",
        "    return theta[:, 0].reshape(-1, 1), cost_history"
      ]
    },
    {
      "cell_type": "code",
      "execution_count": null,
      "metadata": {
        "colab": {
          "base_uri": "https://localhost:8080/"
        },
        "id": "b3DpWgnEEInX",
        "outputId": "d1588ba2-6f0c-413e-d2c1-4931cd7b2631"
      },
      "outputs": [
        {
          "data": {
            "text/plain": [
              "(18, 1)"
            ]
          },
          "execution_count": 1007,
          "metadata": {},
          "output_type": "execute_result"
        }
      ],
      "source": [
        "theta = np.random.randn(X_train.shape[1], 1)\n",
        "\n",
        "n_iterations = 1000\n",
        "learning_rate = 1e-2\n",
        "\n",
        "theta.shape"
      ]
    },
    {
      "cell_type": "code",
      "execution_count": null,
      "metadata": {
        "colab": {
          "base_uri": "https://localhost:8080/"
        },
        "id": "2yZU9XYyEJkR",
        "outputId": "a0487037-76b1-4eb7-b2c9-26f06bf20d87"
      },
      "outputs": [
        {
          "name": "stdout",
          "output_type": "stream",
          "text": [
            "(18, 1)\n"
          ]
        }
      ],
      "source": [
        "theta_final, cost_history = gradient_descent(X_train, y_train, theta, learning_rate, n_iterations, 1)\n",
        "\n",
        "print(theta_final.shape)"
      ]
    },
    {
      "cell_type": "code",
      "execution_count": null,
      "metadata": {
        "colab": {
          "base_uri": "https://localhost:8080/",
          "height": 430
        },
        "id": "l1fU6ROZEOke",
        "outputId": "badf853d-ea71-4ec2-c7f8-61cdb0a54966"
      },
      "outputs": [
        {
          "data": {
            "image/png": "[encoded data removed]",
            "text/plain": [
              "<Figure size 640x480 with 1 Axes>"
            ]
          },
          "metadata": {},
          "output_type": "display_data"
        }
      ],
      "source": [
        "plt.plot(range(n_iterations), cost_history)\n",
        "plt.show()"
      ]
    },
    {
      "cell_type": "code",
      "execution_count": null,
      "metadata": {
        "colab": {
          "base_uri": "https://localhost:8080/"
        },
        "id": "c3ILQlCkEQF4",
        "outputId": "8b358c93-1e0a-473a-d067-82f7dc28a99a"
      },
      "outputs": [
        {
          "data": {
            "text/plain": [
              "(320, 1)"
            ]
          },
          "execution_count": 1010,
          "metadata": {},
          "output_type": "execute_result"
        }
      ],
      "source": [
        "pred_train = model(X_train, theta)\n",
        "pred_test = model(X_test, theta)\n",
        "\n",
        "pred_train.shape"
      ]
    },
    {
      "cell_type": "code",
      "execution_count": null,
      "metadata": {
        "colab": {
          "base_uri": "https://localhost:8080/",
          "height": 450
        },
        "id": "v_D2zC0SESv9",
        "outputId": "e1acbbff-b8ea-4f3e-bb07-d6d7d1be7848"
      },
      "outputs": [
        {
          "data": {
            "image/png": "[encoded data removed]",
            "text/plain": [
              "<Figure size 640x480 with 1 Axes>"
            ]
          },
          "metadata": {},
          "output_type": "display_data"
        }
      ],
      "source": [
        "plt.plot(X_train[:, 0], y_train, 'o', label=\"dataset\")\n",
        "plt.plot(X_train[:, 0], pred_train[:, 0],'o', label='modèle')\n",
        "plt.xlabel('Med_1_mL')\n",
        "plt.ylabel('Med_2_mL')\n",
        "plt.legend()\n",
        "plt.show()"
      ]
    },
    {
      "cell_type": "markdown",
      "metadata": {
        "id": "e6LrH0Q-Fb7V"
      },
      "source": [
        "## Comparing the results :"
      ]
    },
    {
      "cell_type": "markdown",
      "metadata": {
        "id": "H-595OzYF12E"
      },
      "source": [
        "Without regularization, the model tends to overfit the training data, resulting in high variance and poor generalization to unseen data. With regularization, the model's complexity is controlled, leading to improved generalization performance and reduced risk of overfitting."
      ]
    }
  ],
  "metadata": {
    "colab": {
      "provenance": []
    },
    "kernelspec": {
      "display_name": "Python 3",
      "name": "python3"
    },
    "language_info": {
      "name": "python"
    }
  },
  "nbformat": 4,
  "nbformat_minor": 0
}
